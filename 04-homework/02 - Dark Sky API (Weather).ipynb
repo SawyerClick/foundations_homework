{
 "cells": [
  {
   "cell_type": "markdown",
   "metadata": {},
   "source": [
    "# Dark Sky API (Weather)\n",
    "\n",
    "Answer the following questions using the [Dark Sky API](https://darksky.net/dev/). I've added three cells for each question but you're free to use more or less! Hold `Shift` and hit `Enter` to run a cell, and use the `+` on the top left to add a new cell to a notebook.\n",
    "\n",
    "If you spend some time reading the documentation your life will probably be a little bit easier!\n",
    "\n",
    "## 0) Import any libraries you might need\n",
    "\n",
    "- *Tip: We're going to be downloading things from the internet, so we probably need `requests`.*"
   ]
  },
  {
   "cell_type": "code",
   "execution_count": 1,
   "metadata": {},
   "outputs": [],
   "source": [
    "import requests\n",
    "import time"
   ]
  },
  {
   "cell_type": "code",
   "execution_count": 2,
   "metadata": {},
   "outputs": [],
   "source": [
    "from dotenv import load_dotenv\n",
    "load_dotenv()\n",
    "import os\n",
    "\n",
    "API_KEY = os.getenv(\"DARKSKY_API_KEY\")"
   ]
  },
  {
   "cell_type": "markdown",
   "metadata": {
    "collapsed": true
   },
   "source": [
    "## 1) Make a request from the Dark Sky API for where you were born (or lived, or want to visit!).\n",
    "\n",
    "- *Tip: The URL we used in class was for a place near San Francisco. What was the format of the endpoint that made this happen?*\n",
    "- *Tip: Save the URL as a separate variable, and be sure to not have `[` and `]` inside.*\n",
    "- *Tip: How is north vs. south and east vs. west latitude/longitude represented? Is it the normal North/South/East/West?*\n",
    "- *Tip: You know it's JSON, but Python doesn't! Make sure you aren't trying to deal with plain text.* \n",
    "- *Tip: Once you've imported the JSON into a variable, check the timezone's name to make sure it seems like it got the right part of the world!*"
   ]
  },
  {
   "cell_type": "code",
   "execution_count": 3,
   "metadata": {
    "scrolled": true
   },
   "outputs": [
    {
     "name": "stdout",
     "output_type": "stream",
     "text": [
      "{'latitude': 32.736, 'longitude': -96.2753, 'timezone': 'America/Chicago', 'currently': {'time': 1560018506, 'summary': 'Partly Cloudy', 'icon': 'partly-cloudy-day', 'nearestStormDistance': 93, 'nearestStormBearing': 128, 'precipIntensity': 0, 'precipProbability': 0, 'temperature': 85.83, 'apparentTemperature': 89.88, 'dewPoint': 69, 'humidity': 0.57, 'pressure': 1009.95, 'windSpeed': 5.02, 'windGust': 6.05, 'windBearing': 359, 'cloudCover': 0.26, 'uvIndex': 9, 'visibility': 10, 'ozone': 308.17}, 'minutely': {'summary': 'Partly cloudy for the hour.', 'icon': 'partly-cloudy-day', 'data': [{'time': 1560018480, 'precipIntensity': 0, 'precipProbability': 0}, {'time': 1560018540, 'precipIntensity': 0, 'precipProbability': 0}, {'time': 1560018600, 'precipIntensity': 0, 'precipProbability': 0}, {'time': 1560018660, 'precipIntensity': 0, 'precipProbability': 0}, {'time': 1560018720, 'precipIntensity': 0, 'precipProbability': 0}, {'time': 1560018780, 'precipIntensity': 0, 'precipProbability': 0}, {'time': 1560018840, 'precipIntensity': 0, 'precipProbability': 0}, {'time': 1560018900, 'precipIntensity': 0, 'precipProbability': 0}, {'time': 1560018960, 'precipIntensity': 0, 'precipProbability': 0}, {'time': 1560019020, 'precipIntensity': 0, 'precipProbability': 0}, {'time': 1560019080, 'precipIntensity': 0, 'precipProbability': 0}, {'time': 1560019140, 'precipIntensity': 0, 'precipProbability': 0}, {'time': 1560019200, 'precipIntensity': 0, 'precipProbability': 0}, {'time': 1560019260, 'precipIntensity': 0, 'precipProbability': 0}, {'time': 1560019320, 'precipIntensity': 0, 'precipProbability': 0}, {'time': 1560019380, 'precipIntensity': 0, 'precipProbability': 0}, {'time': 1560019440, 'precipIntensity': 0, 'precipProbability': 0}, {'time': 1560019500, 'precipIntensity': 0, 'precipProbability': 0}, {'time': 1560019560, 'precipIntensity': 0, 'precipProbability': 0}, {'time': 1560019620, 'precipIntensity': 0, 'precipProbability': 0}, {'time': 1560019680, 'precipIntensity': 0, 'precipProbability': 0}, {'time': 1560019740, 'precipIntensity': 0, 'precipProbability': 0}, {'time': 1560019800, 'precipIntensity': 0, 'precipProbability': 0}, {'time': 1560019860, 'precipIntensity': 0, 'precipProbability': 0}, {'time': 1560019920, 'precipIntensity': 0, 'precipProbability': 0}, {'time': 1560019980, 'precipIntensity': 0, 'precipProbability': 0}, {'time': 1560020040, 'precipIntensity': 0, 'precipProbability': 0}, {'time': 1560020100, 'precipIntensity': 0, 'precipProbability': 0}, {'time': 1560020160, 'precipIntensity': 0, 'precipProbability': 0}, {'time': 1560020220, 'precipIntensity': 0, 'precipProbability': 0}, {'time': 1560020280, 'precipIntensity': 0, 'precipProbability': 0}, {'time': 1560020340, 'precipIntensity': 0, 'precipProbability': 0}, {'time': 1560020400, 'precipIntensity': 0, 'precipProbability': 0}, {'time': 1560020460, 'precipIntensity': 0, 'precipProbability': 0}, {'time': 1560020520, 'precipIntensity': 0, 'precipProbability': 0}, {'time': 1560020580, 'precipIntensity': 0, 'precipProbability': 0}, {'time': 1560020640, 'precipIntensity': 0, 'precipProbability': 0}, {'time': 1560020700, 'precipIntensity': 0, 'precipProbability': 0}, {'time': 1560020760, 'precipIntensity': 0, 'precipProbability': 0}, {'time': 1560020820, 'precipIntensity': 0, 'precipProbability': 0}, {'time': 1560020880, 'precipIntensity': 0, 'precipProbability': 0}, {'time': 1560020940, 'precipIntensity': 0, 'precipProbability': 0}, {'time': 1560021000, 'precipIntensity': 0, 'precipProbability': 0}, {'time': 1560021060, 'precipIntensity': 0, 'precipProbability': 0}, {'time': 1560021120, 'precipIntensity': 0, 'precipProbability': 0}, {'time': 1560021180, 'precipIntensity': 0, 'precipProbability': 0}, {'time': 1560021240, 'precipIntensity': 0, 'precipProbability': 0}, {'time': 1560021300, 'precipIntensity': 0, 'precipProbability': 0}, {'time': 1560021360, 'precipIntensity': 0, 'precipProbability': 0}, {'time': 1560021420, 'precipIntensity': 0, 'precipProbability': 0}, {'time': 1560021480, 'precipIntensity': 0, 'precipProbability': 0}, {'time': 1560021540, 'precipIntensity': 0, 'precipProbability': 0}, {'time': 1560021600, 'precipIntensity': 0, 'precipProbability': 0}, {'time': 1560021660, 'precipIntensity': 0, 'precipProbability': 0}, {'time': 1560021720, 'precipIntensity': 0, 'precipProbability': 0}, {'time': 1560021780, 'precipIntensity': 0, 'precipProbability': 0}, {'time': 1560021840, 'precipIntensity': 0, 'precipProbability': 0}, {'time': 1560021900, 'precipIntensity': 0, 'precipProbability': 0}, {'time': 1560021960, 'precipIntensity': 0, 'precipProbability': 0}, {'time': 1560022020, 'precipIntensity': 0, 'precipProbability': 0}, {'time': 1560022080, 'precipIntensity': 0, 'precipProbability': 0}]}, 'hourly': {'summary': 'Clear throughout the day.', 'icon': 'clear-day', 'data': [{'time': 1560016800, 'summary': 'Partly Cloudy', 'icon': 'partly-cloudy-day', 'precipIntensity': 0, 'precipProbability': 0, 'temperature': 85.08, 'apparentTemperature': 89.1, 'dewPoint': 69.14, 'humidity': 0.59, 'pressure': 1010.06, 'windSpeed': 4.93, 'windGust': 6.04, 'windBearing': 359, 'cloudCover': 0.29, 'uvIndex': 9, 'visibility': 10, 'ozone': 308.38}, {'time': 1560020400, 'summary': 'Clear', 'icon': 'clear-day', 'precipIntensity': 0, 'precipProbability': 0, 'temperature': 86.66, 'apparentTemperature': 90.72, 'dewPoint': 68.81, 'humidity': 0.56, 'pressure': 1009.82, 'windSpeed': 5.12, 'windGust': 6.06, 'windBearing': 359, 'cloudCover': 0.23, 'uvIndex': 9, 'visibility': 10, 'ozone': 307.94}, {'time': 1560024000, 'summary': 'Clear', 'icon': 'clear-day', 'precipIntensity': 0.0017, 'precipProbability': 0.01, 'precipType': 'rain', 'temperature': 87.76, 'apparentTemperature': 92.04, 'dewPoint': 68.88, 'humidity': 0.54, 'pressure': 1009.49, 'windSpeed': 5.44, 'windGust': 7.09, 'windBearing': 12, 'cloudCover': 0.1, 'uvIndex': 9, 'visibility': 10, 'ozone': 307.82}, {'time': 1560027600, 'summary': 'Clear', 'icon': 'clear-day', 'precipIntensity': 0.0005, 'precipProbability': 0.01, 'precipType': 'rain', 'temperature': 88.82, 'apparentTemperature': 93.44, 'dewPoint': 69.12, 'humidity': 0.52, 'pressure': 1009.2, 'windSpeed': 5.56, 'windGust': 7.97, 'windBearing': 24, 'cloudCover': 0.01, 'uvIndex': 7, 'visibility': 10, 'ozone': 308.35}, {'time': 1560031200, 'summary': 'Clear', 'icon': 'clear-day', 'precipIntensity': 0, 'precipProbability': 0, 'temperature': 89.94, 'apparentTemperature': 94.69, 'dewPoint': 69.04, 'humidity': 0.5, 'pressure': 1008.89, 'windSpeed': 5.44, 'windGust': 7.96, 'windBearing': 32, 'cloudCover': 0, 'uvIndex': 4, 'visibility': 10, 'ozone': 309.84}, {'time': 1560034800, 'summary': 'Clear', 'icon': 'clear-day', 'precipIntensity': 0.0018, 'precipProbability': 0.01, 'precipType': 'rain', 'temperature': 90.25, 'apparentTemperature': 95.18, 'dewPoint': 69.19, 'humidity': 0.5, 'pressure': 1008.45, 'windSpeed': 5.39, 'windGust': 8.25, 'windBearing': 48, 'cloudCover': 0.01, 'uvIndex': 2, 'visibility': 10, 'ozone': 311.97}, {'time': 1560038400, 'summary': 'Clear', 'icon': 'clear-day', 'precipIntensity': 0.0015, 'precipProbability': 0.01, 'precipType': 'rain', 'temperature': 88.88, 'apparentTemperature': 93.36, 'dewPoint': 68.91, 'humidity': 0.52, 'pressure': 1008.22, 'windSpeed': 5.29, 'windGust': 7.68, 'windBearing': 57, 'cloudCover': 0.01, 'uvIndex': 1, 'visibility': 10, 'ozone': 313.99}, {'time': 1560042000, 'summary': 'Clear', 'icon': 'clear-day', 'precipIntensity': 0.0026, 'precipProbability': 0.01, 'precipType': 'rain', 'temperature': 85.04, 'apparentTemperature': 89.6, 'dewPoint': 70, 'humidity': 0.61, 'pressure': 1008.37, 'windSpeed': 5.31, 'windGust': 9.2, 'windBearing': 76, 'cloudCover': 0, 'uvIndex': 0, 'visibility': 10, 'ozone': 315.76}, {'time': 1560045600, 'summary': 'Clear', 'icon': 'clear-night', 'precipIntensity': 0, 'precipProbability': 0, 'temperature': 80.51, 'apparentTemperature': 83.79, 'dewPoint': 69.84, 'humidity': 0.7, 'pressure': 1008.87, 'windSpeed': 4.76, 'windGust': 7.7, 'windBearing': 91, 'cloudCover': 0, 'uvIndex': 0, 'visibility': 10, 'ozone': 317.44}, {'time': 1560049200, 'summary': 'Clear', 'icon': 'clear-night', 'precipIntensity': 0, 'precipProbability': 0, 'temperature': 77.49, 'apparentTemperature': 78.5, 'dewPoint': 69.25, 'humidity': 0.76, 'pressure': 1009.34, 'windSpeed': 4.7, 'windGust': 7.36, 'windBearing': 103, 'cloudCover': 0, 'uvIndex': 0, 'visibility': 10, 'ozone': 318.34}, {'time': 1560052800, 'summary': 'Clear', 'icon': 'clear-night', 'precipIntensity': 0, 'precipProbability': 0, 'temperature': 75.87, 'apparentTemperature': 76.88, 'dewPoint': 68.94, 'humidity': 0.79, 'pressure': 1009.52, 'windSpeed': 4.65, 'windGust': 7.09, 'windBearing': 111, 'cloudCover': 0, 'uvIndex': 0, 'visibility': 10, 'ozone': 318.23}, {'time': 1560056400, 'summary': 'Clear', 'icon': 'clear-night', 'precipIntensity': 0, 'precipProbability': 0, 'temperature': 74.86, 'apparentTemperature': 75.85, 'dewPoint': 68.65, 'humidity': 0.81, 'pressure': 1009.64, 'windSpeed': 4.75, 'windGust': 7.98, 'windBearing': 120, 'cloudCover': 0, 'uvIndex': 0, 'visibility': 10, 'ozone': 317.3}, {'time': 1560060000, 'summary': 'Clear', 'icon': 'clear-night', 'precipIntensity': 0, 'precipProbability': 0, 'temperature': 73.95, 'apparentTemperature': 74.93, 'dewPoint': 68.36, 'humidity': 0.83, 'pressure': 1009.71, 'windSpeed': 4.67, 'windGust': 7.81, 'windBearing': 123, 'cloudCover': 0, 'uvIndex': 0, 'visibility': 10, 'ozone': 316.33}, {'time': 1560063600, 'summary': 'Clear', 'icon': 'clear-night', 'precipIntensity': 0, 'precipProbability': 0, 'temperature': 72.86, 'apparentTemperature': 73.82, 'dewPoint': 67.88, 'humidity': 0.84, 'pressure': 1009.76, 'windSpeed': 4.59, 'windGust': 8.41, 'windBearing': 120, 'cloudCover': 0, 'uvIndex': 0, 'visibility': 10, 'ozone': 315.79}, {'time': 1560067200, 'summary': 'Clear', 'icon': 'clear-night', 'precipIntensity': 0, 'precipProbability': 0, 'temperature': 71.17, 'apparentTemperature': 72.09, 'dewPoint': 67.23, 'humidity': 0.87, 'pressure': 1010.14, 'windSpeed': 3.81, 'windGust': 4.11, 'windBearing': 115, 'cloudCover': 0, 'uvIndex': 0, 'visibility': 10, 'ozone': 315.25}, {'time': 1560070800, 'summary': 'Clear', 'icon': 'clear-night', 'precipIntensity': 0, 'precipProbability': 0, 'temperature': 69.75, 'apparentTemperature': 70.72, 'dewPoint': 67.13, 'humidity': 0.91, 'pressure': 1010.36, 'windSpeed': 3.5, 'windGust': 4.06, 'windBearing': 118, 'cloudCover': 0, 'uvIndex': 0, 'visibility': 10, 'ozone': 314.4}, {'time': 1560074400, 'summary': 'Clear', 'icon': 'clear-night', 'precipIntensity': 0, 'precipProbability': 0, 'temperature': 68.22, 'apparentTemperature': 69.23, 'dewPoint': 66.89, 'humidity': 0.96, 'pressure': 1010.59, 'windSpeed': 3.63, 'windGust': 4.4, 'windBearing': 129, 'cloudCover': 0, 'uvIndex': 0, 'visibility': 10, 'ozone': 313.42}, {'time': 1560078000, 'summary': 'Clear', 'icon': 'clear-night', 'precipIntensity': 0, 'precipProbability': 0, 'temperature': 67.01, 'apparentTemperature': 68.05, 'dewPoint': 66.64, 'humidity': 0.99, 'pressure': 1010.86, 'windSpeed': 4, 'windGust': 5, 'windBearing': 144, 'cloudCover': 0.01, 'uvIndex': 0, 'visibility': 10, 'ozone': 312.21}, {'time': 1560081600, 'summary': 'Clear', 'icon': 'clear-day', 'precipIntensity': 0, 'precipProbability': 0, 'temperature': 67.5, 'apparentTemperature': 68.57, 'dewPoint': 66.94, 'humidity': 0.98, 'pressure': 1011.17, 'windSpeed': 4.49, 'windGust': 5.76, 'windBearing': 157, 'cloudCover': 0.01, 'uvIndex': 0, 'visibility': 10, 'ozone': 310.69}, {'time': 1560085200, 'summary': 'Clear', 'icon': 'clear-day', 'precipIntensity': 0.0003, 'precipProbability': 0.01, 'precipType': 'rain', 'temperature': 71.39, 'apparentTemperature': 72.45, 'dewPoint': 68.2, 'humidity': 0.9, 'pressure': 1011.62, 'windSpeed': 5.2, 'windGust': 6.89, 'windBearing': 166, 'cloudCover': 0.02, 'uvIndex': 1, 'visibility': 10, 'ozone': 308.48}, {'time': 1560088800, 'summary': 'Clear', 'icon': 'clear-day', 'precipIntensity': 0.0014, 'precipProbability': 0.01, 'precipType': 'rain', 'temperature': 77.07, 'apparentTemperature': 78.18, 'dewPoint': 69.96, 'humidity': 0.79, 'pressure': 1012.1, 'windSpeed': 6.04, 'windGust': 8.21, 'windBearing': 172, 'cloudCover': 0.03, 'uvIndex': 2, 'visibility': 10, 'ozone': 305.94}, {'time': 1560092400, 'summary': 'Clear', 'icon': 'clear-day', 'precipIntensity': 0.0023, 'precipProbability': 0.01, 'precipType': 'rain', 'temperature': 81.93, 'apparentTemperature': 86.4, 'dewPoint': 71.35, 'humidity': 0.7, 'pressure': 1012.41, 'windSpeed': 6.62, 'windGust': 8.85, 'windBearing': 176, 'cloudCover': 0.04, 'uvIndex': 5, 'visibility': 10, 'ozone': 303.91}, {'time': 1560096000, 'summary': 'Clear', 'icon': 'clear-day', 'precipIntensity': 0.0017, 'precipProbability': 0.01, 'precipType': 'rain', 'temperature': 84.89, 'apparentTemperature': 90.78, 'dewPoint': 71.94, 'humidity': 0.65, 'pressure': 1012.41, 'windSpeed': 6.63, 'windGust': 8.14, 'windBearing': 180, 'cloudCover': 0.1, 'uvIndex': 7, 'visibility': 10, 'ozone': 302.62}, {'time': 1560099600, 'summary': 'Humid', 'icon': 'clear-day', 'precipIntensity': 0.0008, 'precipProbability': 0.01, 'precipType': 'rain', 'temperature': 86.73, 'apparentTemperature': 93.37, 'dewPoint': 72.17, 'humidity': 0.62, 'pressure': 1012.29, 'windSpeed': 6.39, 'windGust': 6.78, 'windBearing': 181, 'cloudCover': 0.17, 'uvIndex': 9, 'visibility': 10, 'ozone': 301.76}, {'time': 1560103200, 'summary': 'Humid', 'icon': 'clear-day', 'precipIntensity': 0.0004, 'precipProbability': 0.01, 'precipType': 'rain', 'temperature': 87.65, 'apparentTemperature': 94.8, 'dewPoint': 72.44, 'humidity': 0.61, 'pressure': 1012.12, 'windSpeed': 6.36, 'windGust': 6.37, 'windBearing': 174, 'cloudCover': 0.23, 'uvIndex': 10, 'visibility': 10, 'ozone': 300.99}, {'time': 1560106800, 'summary': 'Humid and Partly Cloudy', 'icon': 'partly-cloudy-day', 'precipIntensity': 0.0021, 'precipProbability': 0.01, 'precipType': 'rain', 'temperature': 88.85, 'apparentTemperature': 96.72, 'dewPoint': 72.84, 'humidity': 0.59, 'pressure': 1011.95, 'windSpeed': 6.76, 'windGust': 6.76, 'windBearing': 156, 'cloudCover': 0.28, 'uvIndex': 9, 'visibility': 10, 'ozone': 300.4}, {'time': 1560110400, 'summary': 'Humid and Partly Cloudy', 'icon': 'partly-cloudy-day', 'precipIntensity': 0.0102, 'precipProbability': 0.03, 'precipType': 'rain', 'temperature': 90.22, 'apparentTemperature': 98.96, 'dewPoint': 73.31, 'humidity': 0.58, 'pressure': 1011.73, 'windSpeed': 7.41, 'windGust': 7.68, 'windBearing': 132, 'cloudCover': 0.33, 'uvIndex': 8, 'visibility': 10, 'ozone': 299.92}, {'time': 1560114000, 'summary': 'Humid and Partly Cloudy', 'icon': 'partly-cloudy-day', 'precipIntensity': 0.0167, 'precipProbability': 0.03, 'precipType': 'rain', 'temperature': 91.3, 'apparentTemperature': 100.82, 'dewPoint': 73.72, 'humidity': 0.57, 'pressure': 1011.51, 'windSpeed': 7.92, 'windGust': 8.8, 'windBearing': 116, 'cloudCover': 0.35, 'uvIndex': 6, 'visibility': 10, 'ozone': 299.22}, {'time': 1560117600, 'summary': 'Humid and Partly Cloudy', 'icon': 'partly-cloudy-day', 'precipIntensity': 0.0101, 'precipProbability': 0.03, 'precipType': 'rain', 'temperature': 91.94, 'apparentTemperature': 102.17, 'dewPoint': 74.16, 'humidity': 0.56, 'pressure': 1011.17, 'windSpeed': 8.11, 'windGust': 9.42, 'windBearing': 115, 'cloudCover': 0.31, 'uvIndex': 4, 'visibility': 10, 'ozone': 298}, {'time': 1560121200, 'summary': 'Humid', 'icon': 'clear-day', 'precipIntensity': 0.0019, 'precipProbability': 0.02, 'precipType': 'rain', 'temperature': 92.06, 'apparentTemperature': 102.79, 'dewPoint': 74.55, 'humidity': 0.57, 'pressure': 1010.84, 'windSpeed': 8.22, 'windGust': 10.11, 'windBearing': 121, 'cloudCover': 0.24, 'uvIndex': 2, 'visibility': 10, 'ozone': 296.47}, {'time': 1560124800, 'summary': 'Humid', 'icon': 'clear-day', 'precipIntensity': 0, 'precipProbability': 0, 'temperature': 90.7, 'apparentTemperature': 101.13, 'dewPoint': 74.67, 'humidity': 0.6, 'pressure': 1010.79, 'windSpeed': 8.37, 'windGust': 11.86, 'windBearing': 119, 'cloudCover': 0.22, 'uvIndex': 1, 'visibility': 10, 'ozone': 294.92}, {'time': 1560128400, 'summary': 'Humid and Partly Cloudy', 'icon': 'partly-cloudy-day', 'precipIntensity': 0.0013, 'precipProbability': 0.02, 'precipType': 'rain', 'temperature': 87.6, 'apparentTemperature': 96.59, 'dewPoint': 74.33, 'humidity': 0.65, 'pressure': 1011.18, 'windSpeed': 8.7, 'windGust': 15.91, 'windBearing': 107, 'cloudCover': 0.33, 'uvIndex': 0, 'visibility': 10, 'ozone': 292.93}, {'time': 1560132000, 'summary': 'Humid and Partly Cloudy', 'icon': 'partly-cloudy-night', 'precipIntensity': 0.0071, 'precipProbability': 0.04, 'precipType': 'rain', 'temperature': 83.82, 'apparentTemperature': 90.56, 'dewPoint': 73.6, 'humidity': 0.72, 'pressure': 1011.88, 'windSpeed': 9.17, 'windGust': 21.14, 'windBearing': 91, 'cloudCover': 0.51, 'uvIndex': 0, 'visibility': 10, 'ozone': 290.81}, {'time': 1560135600, 'summary': 'Humid and Mostly Cloudy', 'icon': 'partly-cloudy-night', 'precipIntensity': 0.0148, 'precipProbability': 0.07, 'precipType': 'rain', 'temperature': 80.93, 'apparentTemperature': 85.64, 'dewPoint': 72.85, 'humidity': 0.77, 'pressure': 1012.72, 'windSpeed': 9.37, 'windGust': 24.89, 'windBearing': 73, 'cloudCover': 0.64, 'uvIndex': 0, 'visibility': 9.2, 'ozone': 289.35}, {'time': 1560139200, 'summary': 'Humid and Mostly Cloudy', 'icon': 'partly-cloudy-night', 'precipIntensity': 0.0205, 'precipProbability': 0.1, 'precipType': 'rain', 'temperature': 79.36, 'apparentTemperature': 82.81, 'dewPoint': 72.29, 'humidity': 0.79, 'pressure': 1013.85, 'windSpeed': 8.7, 'windGust': 25.43, 'windBearing': 58, 'cloudCover': 0.67, 'uvIndex': 0, 'visibility': 8.31, 'ozone': 289.13}, {'time': 1560142800, 'summary': 'Mostly Cloudy', 'icon': 'partly-cloudy-night', 'precipIntensity': 0.0259, 'precipProbability': 0.16, 'precipType': 'rain', 'temperature': 78.23, 'apparentTemperature': 79.54, 'dewPoint': 71.77, 'humidity': 0.81, 'pressure': 1015.13, 'windSpeed': 7.63, 'windGust': 24.38, 'windBearing': 42, 'cloudCover': 0.66, 'uvIndex': 0, 'visibility': 8.14, 'ozone': 289.5}, {'time': 1560146400, 'summary': 'Mostly Cloudy', 'icon': 'partly-cloudy-night', 'precipIntensity': 0.0279, 'precipProbability': 0.18, 'precipType': 'rain', 'temperature': 77.18, 'apparentTemperature': 78.45, 'dewPoint': 71.19, 'humidity': 0.82, 'pressure': 1016.24, 'windSpeed': 7.4, 'windGust': 23.84, 'windBearing': 29, 'cloudCover': 0.67, 'uvIndex': 0, 'visibility': 8.3, 'ozone': 290.08}, {'time': 1560150000, 'summary': 'Mostly Cloudy', 'icon': 'partly-cloudy-night', 'precipIntensity': 0.0219, 'precipProbability': 0.15, 'precipType': 'rain', 'temperature': 76.05, 'apparentTemperature': 77.27, 'dewPoint': 70.62, 'humidity': 0.83, 'pressure': 1016.9, 'windSpeed': 8.86, 'windGust': 24.4, 'windBearing': 16, 'cloudCover': 0.75, 'uvIndex': 0, 'visibility': 8.75, 'ozone': 290.84}, {'time': 1560153600, 'summary': 'Mostly Cloudy', 'icon': 'partly-cloudy-night', 'precipIntensity': 0.0136, 'precipProbability': 0.11, 'precipType': 'rain', 'temperature': 74.7, 'apparentTemperature': 75.89, 'dewPoint': 70, 'humidity': 0.85, 'pressure': 1017.36, 'windSpeed': 11.28, 'windGust': 25.38, 'windBearing': 3, 'cloudCover': 0.84, 'uvIndex': 0, 'visibility': 9.53, 'ozone': 291.63}, {'time': 1560157200, 'summary': 'Mostly Cloudy', 'icon': 'partly-cloudy-night', 'precipIntensity': 0.0085, 'precipProbability': 0.08, 'precipType': 'rain', 'temperature': 73.38, 'apparentTemperature': 74.5, 'dewPoint': 69.23, 'humidity': 0.87, 'pressure': 1017.91, 'windSpeed': 13.45, 'windGust': 26.87, 'windBearing': 355, 'cloudCover': 0.89, 'uvIndex': 0, 'visibility': 10, 'ozone': 292.2}, {'time': 1560160800, 'summary': 'Mostly Cloudy', 'icon': 'partly-cloudy-night', 'precipIntensity': 0.0051, 'precipProbability': 0.06, 'precipType': 'rain', 'temperature': 71.57, 'apparentTemperature': 72.61, 'dewPoint': 68.11, 'humidity': 0.89, 'pressure': 1018.69, 'windSpeed': 14.92, 'windGust': 29.54, 'windBearing': 353, 'cloudCover': 0.84, 'uvIndex': 0, 'visibility': 10, 'ozone': 292.53}, {'time': 1560164400, 'summary': 'Mostly Cloudy', 'icon': 'partly-cloudy-night', 'precipIntensity': 0.0051, 'precipProbability': 0.06, 'precipType': 'rain', 'temperature': 69.76, 'apparentTemperature': 70.67, 'dewPoint': 66.72, 'humidity': 0.9, 'pressure': 1019.51, 'windSpeed': 16.2, 'windGust': 32.71, 'windBearing': 357, 'cloudCover': 0.75, 'uvIndex': 0, 'visibility': 10, 'ozone': 292.55}, {'time': 1560168000, 'summary': 'Breezy and Mostly Cloudy', 'icon': 'wind', 'precipIntensity': 0.0079, 'precipProbability': 0.09, 'precipType': 'rain', 'temperature': 67.99, 'apparentTemperature': 68.81, 'dewPoint': 65.57, 'humidity': 0.92, 'pressure': 1020.31, 'windSpeed': 17.17, 'windGust': 34.39, 'windBearing': 1, 'cloudCover': 0.68, 'uvIndex': 0, 'visibility': 10, 'ozone': 292.66}, {'time': 1560171600, 'summary': 'Breezy and Mostly Cloudy', 'icon': 'wind', 'precipIntensity': 0.0125, 'precipProbability': 0.13, 'precipType': 'rain', 'temperature': 68.43, 'apparentTemperature': 69.13, 'dewPoint': 64.87, 'humidity': 0.88, 'pressure': 1021.09, 'windSpeed': 17.57, 'windGust': 33.24, 'windBearing': 4, 'cloudCover': 0.67, 'uvIndex': 1, 'visibility': 10, 'ozone': 293.12}, {'time': 1560175200, 'summary': 'Breezy and Mostly Cloudy', 'icon': 'wind', 'precipIntensity': 0.0216, 'precipProbability': 0.16, 'precipType': 'rain', 'temperature': 69.74, 'apparentTemperature': 70.35, 'dewPoint': 64.59, 'humidity': 0.84, 'pressure': 1021.81, 'windSpeed': 17.56, 'windGust': 30.55, 'windBearing': 7, 'cloudCover': 0.68, 'uvIndex': 2, 'visibility': 10, 'ozone': 293.57}, {'time': 1560178800, 'summary': 'Mostly Cloudy', 'icon': 'partly-cloudy-day', 'precipIntensity': 0.0267, 'precipProbability': 0.13, 'precipType': 'rain', 'temperature': 71.52, 'apparentTemperature': 72.08, 'dewPoint': 64.58, 'humidity': 0.79, 'pressure': 1022.37, 'windSpeed': 17.39, 'windGust': 27.89, 'windBearing': 9, 'cloudCover': 0.7, 'uvIndex': 4, 'visibility': 10, 'ozone': 294.11}, {'time': 1560182400, 'summary': 'Mostly Cloudy', 'icon': 'partly-cloudy-day', 'precipIntensity': 0.017, 'precipProbability': 0.09, 'precipType': 'rain', 'temperature': 72.95, 'apparentTemperature': 73.51, 'dewPoint': 64.88, 'humidity': 0.76, 'pressure': 1022.63, 'windSpeed': 17.1, 'windGust': 25.75, 'windBearing': 11, 'cloudCover': 0.71, 'uvIndex': 5, 'visibility': 10, 'ozone': 294.44}, {'time': 1560186000, 'summary': 'Mostly Cloudy', 'icon': 'partly-cloudy-day', 'precipIntensity': 0.0049, 'precipProbability': 0.03, 'precipType': 'rain', 'temperature': 74.43, 'apparentTemperature': 75.03, 'dewPoint': 65.38, 'humidity': 0.73, 'pressure': 1022.71, 'windSpeed': 16.65, 'windGust': 23.66, 'windBearing': 12, 'cloudCover': 0.73, 'uvIndex': 6, 'visibility': 10, 'ozone': 294.78}, {'time': 1560189600, 'summary': 'Mostly Cloudy', 'icon': 'partly-cloudy-day', 'precipIntensity': 0.0007, 'precipProbability': 0.02, 'precipType': 'rain', 'temperature': 75.57, 'apparentTemperature': 76.18, 'dewPoint': 65.59, 'humidity': 0.71, 'pressure': 1022.63, 'windSpeed': 16.23, 'windGust': 21.93, 'windBearing': 12, 'cloudCover': 0.75, 'uvIndex': 6, 'visibility': 10, 'ozone': 295.11}]}, 'daily': {'summary': 'Light rain tomorrow and Monday, with high temperatures falling to 79°F on Tuesday.', 'icon': 'rain', 'data': [{'time': 1559970000, 'summary': 'Partly cloudy until afternoon.', 'icon': 'partly-cloudy-day', 'sunriseTime': 1559992696, 'sunsetTime': 1560043982, 'moonPhase': 0.19, 'precipIntensity': 0.0004, 'precipIntensityMax': 0.0026, 'precipIntensityMaxTime': 1560042000, 'precipProbability': 0.07, 'precipType': 'rain', 'temperatureHigh': 90.25, 'temperatureHighTime': 1560034800, 'temperatureLow': 67.01, 'temperatureLowTime': 1560078000, 'apparentTemperatureHigh': 95.18, 'apparentTemperatureHighTime': 1560034800, 'apparentTemperatureLow': 68.05, 'apparentTemperatureLowTime': 1560078000, 'dewPoint': 69.24, 'humidity': 0.73, 'pressure': 1008.76, 'windSpeed': 3.5, 'windGust': 9.2, 'windGustTime': 1560042000, 'windBearing': 21, 'cloudCover': 0.09, 'uvIndex': 9, 'uvIndexTime': 1560016800, 'visibility': 9.77, 'ozone': 311.37, 'temperatureMin': 70.8, 'temperatureMinTime': 1559995200, 'temperatureMax': 90.25, 'temperatureMaxTime': 1560034800, 'apparentTemperatureMin': 71.98, 'apparentTemperatureMinTime': 1559995200, 'apparentTemperatureMax': 95.18, 'apparentTemperatureMaxTime': 1560034800}, {'time': 1560056400, 'summary': 'Humid throughout the day and partly cloudy starting in the afternoon.', 'icon': 'partly-cloudy-night', 'sunriseTime': 1560079090, 'sunsetTime': 1560130409, 'moonPhase': 0.23, 'precipIntensity': 0.0039, 'precipIntensityMax': 0.0205, 'precipIntensityMaxTime': 1560139200, 'precipProbability': 0.26, 'precipType': 'rain', 'temperatureHigh': 92.06, 'temperatureHighTime': 1560121200, 'temperatureLow': 67.99, 'temperatureLowTime': 1560168000, 'apparentTemperatureHigh': 102.79, 'apparentTemperatureHighTime': 1560121200, 'apparentTemperatureLow': 68.81, 'apparentTemperatureLowTime': 1560168000, 'dewPoint': 70.92, 'humidity': 0.74, 'pressure': 1011.37, 'windSpeed': 5.29, 'windGust': 25.43, 'windGustTime': 1560139200, 'windBearing': 128, 'cloudCover': 0.19, 'uvIndex': 10, 'uvIndexTime': 1560103200, 'visibility': 9.9, 'ozone': 303.76, 'temperatureMin': 67.01, 'temperatureMinTime': 1560078000, 'temperatureMax': 92.06, 'temperatureMaxTime': 1560121200, 'apparentTemperatureMin': 68.05, 'apparentTemperatureMinTime': 1560078000, 'apparentTemperatureMax': 102.79, 'apparentTemperatureMaxTime': 1560121200}, {'time': 1560142800, 'summary': 'Mostly cloudy throughout the day and breezy in the morning.', 'icon': 'wind', 'sunriseTime': 1560165487, 'sunsetTime': 1560216836, 'moonPhase': 0.27, 'precipIntensity': 0.0084, 'precipIntensityMax': 0.0279, 'precipIntensityMaxTime': 1560146400, 'precipProbability': 0.6, 'precipType': 'rain', 'temperatureHigh': 79.63, 'temperatureHighTime': 1560200400, 'temperatureLow': 62.44, 'temperatureLowTime': 1560254400, 'apparentTemperatureHigh': 81.36, 'apparentTemperatureHighTime': 1560200400, 'apparentTemperatureLow': 62.44, 'apparentTemperatureLowTime': 1560254400, 'dewPoint': 65.37, 'humidity': 0.74, 'pressure': 1020.55, 'windSpeed': 13.52, 'windGust': 34.39, 'windGustTime': 1560168000, 'windBearing': 8, 'cloudCover': 0.75, 'uvIndex': 6, 'uvIndexTime': 1560186000, 'visibility': 9.78, 'ozone': 294.82, 'temperatureMin': 67.99, 'temperatureMinTime': 1560168000, 'temperatureMax': 79.63, 'temperatureMaxTime': 1560200400, 'apparentTemperatureMin': 68.81, 'apparentTemperatureMinTime': 1560168000, 'apparentTemperatureMax': 81.36, 'apparentTemperatureMaxTime': 1560200400}, {'time': 1560229200, 'summary': 'Partly cloudy until afternoon.', 'icon': 'partly-cloudy-day', 'sunriseTime': 1560251884, 'sunsetTime': 1560303261, 'moonPhase': 0.31, 'precipIntensity': 0.0003, 'precipIntensityMax': 0.002, 'precipIntensityMaxTime': 1560265200, 'precipProbability': 0.18, 'precipType': 'rain', 'temperatureHigh': 79.22, 'temperatureHighTime': 1560286800, 'temperatureLow': 62.4, 'temperatureLowTime': 1560337200, 'apparentTemperatureHigh': 79.22, 'apparentTemperatureHighTime': 1560286800, 'apparentTemperatureLow': 62.4, 'apparentTemperatureLowTime': 1560337200, 'dewPoint': 57.32, 'humidity': 0.62, 'pressure': 1020.18, 'windSpeed': 5.19, 'windGust': 21.21, 'windGustTime': 1560229200, 'windBearing': 81, 'cloudCover': 0.48, 'uvIndex': 8, 'uvIndexTime': 1560276000, 'visibility': 10, 'ozone': 316.43, 'temperatureMin': 62.44, 'temperatureMinTime': 1560254400, 'temperatureMax': 79.22, 'temperatureMaxTime': 1560286800, 'apparentTemperatureMin': 62.44, 'apparentTemperatureMinTime': 1560254400, 'apparentTemperatureMax': 79.22, 'apparentTemperatureMaxTime': 1560286800}, {'time': 1560315600, 'summary': 'Mostly cloudy until afternoon.', 'icon': 'partly-cloudy-day', 'sunriseTime': 1560338283, 'sunsetTime': 1560389685, 'moonPhase': 0.34, 'precipIntensity': 0.0001, 'precipIntensityMax': 0.0007, 'precipIntensityMaxTime': 1560351600, 'precipProbability': 0.11, 'precipType': 'rain', 'temperatureHigh': 84.43, 'temperatureHighTime': 1560380400, 'temperatureLow': 62.34, 'temperatureLowTime': 1560423600, 'apparentTemperatureHigh': 87.44, 'apparentTemperatureHighTime': 1560380400, 'apparentTemperatureLow': 62.34, 'apparentTemperatureLowTime': 1560423600, 'dewPoint': 60.97, 'humidity': 0.66, 'pressure': 1014.66, 'windSpeed': 2.28, 'windGust': 10.86, 'windGustTime': 1560380400, 'windBearing': 26, 'cloudCover': 0.53, 'uvIndex': 7, 'uvIndexTime': 1560369600, 'visibility': 10, 'ozone': 335.38, 'temperatureMin': 62.4, 'temperatureMinTime': 1560337200, 'temperatureMax': 84.43, 'temperatureMaxTime': 1560380400, 'apparentTemperatureMin': 62.4, 'apparentTemperatureMinTime': 1560337200, 'apparentTemperatureMax': 87.44, 'apparentTemperatureMaxTime': 1560380400}, {'time': 1560402000, 'summary': 'Mostly cloudy overnight.', 'icon': 'partly-cloudy-night', 'sunriseTime': 1560424684, 'sunsetTime': 1560476108, 'moonPhase': 0.38, 'precipIntensity': 0, 'precipIntensityMax': 0, 'precipProbability': 0, 'temperatureHigh': 86.47, 'temperatureHighTime': 1560459600, 'temperatureLow': 68.34, 'temperatureLowTime': 1560506400, 'apparentTemperatureHigh': 86.69, 'apparentTemperatureHighTime': 1560463200, 'apparentTemperatureLow': 68.34, 'apparentTemperatureLowTime': 1560506400, 'dewPoint': 58.36, 'humidity': 0.56, 'pressure': 1016.27, 'windSpeed': 4, 'windGust': 21.46, 'windGustTime': 1560484800, 'windBearing': 83, 'cloudCover': 0.01, 'uvIndex': 10, 'uvIndexTime': 1560448800, 'visibility': 10, 'ozone': 336.99, 'temperatureMin': 62.34, 'temperatureMinTime': 1560423600, 'temperatureMax': 86.47, 'temperatureMaxTime': 1560459600, 'apparentTemperatureMin': 62.34, 'apparentTemperatureMinTime': 1560423600, 'apparentTemperatureMax': 86.69, 'apparentTemperatureMaxTime': 1560463200}, {'time': 1560488400, 'summary': 'Mostly cloudy throughout the day.', 'icon': 'partly-cloudy-day', 'sunriseTime': 1560511086, 'sunsetTime': 1560562530, 'moonPhase': 0.41, 'precipIntensity': 0, 'precipIntensityMax': 0.0002, 'precipIntensityMaxTime': 1560567600, 'precipProbability': 0, 'temperatureHigh': 88.67, 'temperatureHighTime': 1560546000, 'temperatureLow': 74.15, 'temperatureLowTime': 1560596400, 'apparentTemperatureHigh': 92.12, 'apparentTemperatureHighTime': 1560546000, 'apparentTemperatureLow': 74.79, 'apparentTemperatureLowTime': 1560596400, 'dewPoint': 63.62, 'humidity': 0.6, 'pressure': 1013.21, 'windSpeed': 13.01, 'windGust': 34.93, 'windGustTime': 1560517200, 'windBearing': 170, 'cloudCover': 0.74, 'uvIndex': 5, 'uvIndexTime': 1560538800, 'visibility': 10, 'ozone': 325.19, 'temperatureMin': 68.34, 'temperatureMinTime': 1560506400, 'temperatureMax': 88.67, 'temperatureMaxTime': 1560546000, 'apparentTemperatureMin': 68.34, 'apparentTemperatureMinTime': 1560506400, 'apparentTemperatureMax': 92.12, 'apparentTemperatureMaxTime': 1560546000}, {'time': 1560574800, 'summary': 'Humid throughout the day and breezy overnight.', 'icon': 'wind', 'sunriseTime': 1560597490, 'sunsetTime': 1560648950, 'moonPhase': 0.45, 'precipIntensity': 0.0003, 'precipIntensityMax': 0.0013, 'precipIntensityMaxTime': 1560600000, 'precipProbability': 0.08, 'precipType': 'rain', 'temperatureHigh': 91.11, 'temperatureHighTime': 1560632400, 'temperatureLow': 77.02, 'temperatureLowTime': 1560682800, 'apparentTemperatureHigh': 100.21, 'apparentTemperatureHighTime': 1560632400, 'apparentTemperatureLow': 78.36, 'apparentTemperatureLowTime': 1560682800, 'dewPoint': 70.06, 'humidity': 0.66, 'pressure': 1012.16, 'windSpeed': 16.96, 'windGust': 35.71, 'windGustTime': 1560589200, 'windBearing': 184, 'cloudCover': 0.68, 'uvIndex': 7, 'uvIndexTime': 1560621600, 'visibility': 10, 'ozone': 310.04, 'temperatureMin': 74.15, 'temperatureMinTime': 1560596400, 'temperatureMax': 91.11, 'temperatureMaxTime': 1560632400, 'apparentTemperatureMin': 74.79, 'apparentTemperatureMinTime': 1560596400, 'apparentTemperatureMax': 100.21, 'apparentTemperatureMaxTime': 1560632400}]}, 'alerts': [{'title': 'Air Quality Alert', 'regions': ['Collin', 'Dallas', 'Denton', 'Ellis', 'Henderson', 'Hood', 'Hunt', 'Johnson', 'Kaufman', 'Parker', 'Rockwall', 'Tarrant', 'Wise'], 'severity': 'advisory', 'time': 1559916600, 'expires': 1560031200, 'description': '...OZONE ACTION DAY... The Texas Commission on Environmental Quality (TCEQ) has issued an Ozone Action Day for the Dallas-Fort Worth area for Saturday, June 8, 2019. Atmospheric conditions are expected to be favorable for producing high levels of ozone air pollution in the Dallas-Fort Worth area on Saturday. You can help prevent ozone pollution by sharing a ride, walking, riding a bicycle, taking your lunch to work, avoiding drive-through lanes, conserving energy, and keeping your vehicle properly tuned. For more information on ozone: Ozone: The Facts (www.tceq.texas.gov/goto/ozonefacts) Air North Texas: (www.airnorthtexas.org) EPA Air Now (www.airnow.gov/index.cfm?action.local_state&STATEID=45&TAB=0) Take care of Texas (www.takecareoftexas.org) North Central Texas Council of Governments Air Quality (www.nctcog.org/trans/air/index.asp)\\n', 'uri': 'https://alerts.weather.gov/cap/wwacapget.php?x=TX125CFDF81210.AirQualityAlert.125CFE07DF60TX.FWDAQAFWD.02a0462c63199c98ae9f4c5143476d27'}], 'flags': {'sources': ['nearest-precip', 'nwspa', 'cmc', 'gfs', 'hrrr', 'icon', 'isd', 'madis', 'nam', 'sref', 'darksky'], 'nearest-station': 1.399, 'units': 'us'}, 'offset': -5}\n"
     ]
    }
   ],
   "source": [
    "## Terrell, Texas coordinates: 32.7366° N, 96.2753° W\n",
    "terrell_url = f\"https://api.darksky.net/forecast/{API_KEY}/32.736,-96.2753\"\n",
    "\n",
    "response = requests.get(terrell_url)\n",
    "terrell = response.json()\n",
    "print(terrell)"
   ]
  },
  {
   "cell_type": "markdown",
   "metadata": {},
   "source": [
    "## 2) What's the current wind speed? How much warmer does it feel than it actually is?\n",
    "\n",
    "- *Tip: You can do this by browsing through the dictionaries, but it might be easier to read the documentation*\n",
    "- *Tip: For the second half: it **is** one temperature, and it **feels** a different temperature. Calculate the difference.*"
   ]
  },
  {
   "cell_type": "code",
   "execution_count": 4,
   "metadata": {},
   "outputs": [
    {
     "name": "stdout",
     "output_type": "stream",
     "text": [
      "The current wind speed in Terrell is 5.02 mph.\n"
     ]
    }
   ],
   "source": [
    "print(f\"The current wind speed in Terrell is {terrell['currently']['windSpeed']} mph.\")"
   ]
  },
  {
   "cell_type": "code",
   "execution_count": 5,
   "metadata": {},
   "outputs": [
    {
     "name": "stdout",
     "output_type": "stream",
     "text": [
      "It feels 4.05 degrees warmer than it actually is.\n"
     ]
    }
   ],
   "source": [
    "print(f\"It feels {(terrell['currently']['apparentTemperature']) - (terrell['currently']['temperature']):.02f} degrees warmer than it actually is.\")"
   ]
  },
  {
   "cell_type": "markdown",
   "metadata": {},
   "source": [
    "## 3) Today's forecast is the FIRST daily forecast. For the place you decided on above, how much of the moon is currently visible?\n",
    "\n",
    "- *Tip: This does **not** use the `currently` key.*\n",
    "- *Tip: It might be helpful to save the forecast into its own variable*"
   ]
  },
  {
   "cell_type": "code",
   "execution_count": 6,
   "metadata": {},
   "outputs": [
    {
     "name": "stdout",
     "output_type": "stream",
     "text": [
      "19.0% of the moon is visible\n"
     ]
    }
   ],
   "source": [
    "terrell.keys()\n",
    "today = terrell['daily']['data'][0]\n",
    "\n",
    "print(f\"{today['moonPhase'] * 100:}% of the moon is visible\")"
   ]
  },
  {
   "cell_type": "markdown",
   "metadata": {},
   "source": [
    "## 4) What's the difference between the high and low temperatures for today?"
   ]
  },
  {
   "cell_type": "code",
   "execution_count": 7,
   "metadata": {},
   "outputs": [
    {
     "name": "stdout",
     "output_type": "stream",
     "text": [
      "The difference between today's high and low is 23.24 degrees.\n"
     ]
    }
   ],
   "source": [
    "today.keys()\n",
    "\n",
    "print(f\"The difference between today's high and low is {(today['temperatureHigh'] - today['temperatureLow']):.02f} degrees.\")"
   ]
  },
  {
   "cell_type": "markdown",
   "metadata": {},
   "source": [
    "## 5) Go through the daily forecasts, printing out the next week's worth of predictions.\n",
    "\n",
    "I'd like to know the **high temperature** for each day, and whether it's **hot, warm, or cold** (based on what temperatures you think are hot, warm or cold).\n",
    "\n",
    "- *Tip: Is it returning F or C? You can change them by adding `?units=us` or `?units=si` onto the end of the URL.*\n",
    "- *Tip: You'll need to use an `if` statement to say whether it is hot, warm or cold.*"
   ]
  },
  {
   "cell_type": "code",
   "execution_count": 8,
   "metadata": {},
   "outputs": [
    {
     "name": "stdout",
     "output_type": "stream",
     "text": [
      "Sat, 08 Jun has a high of 90.25 degrees, which means it will be hot\n",
      "Sun, 09 Jun has a high of 92.06 degrees, which means it will be hot\n",
      "Mon, 10 Jun has a high of 79.63 degrees, which means it will be warm\n",
      "Tue, 11 Jun has a high of 79.22 degrees, which means it will be warm\n",
      "Wed, 12 Jun has a high of 84.43 degrees, which means it will be warm\n",
      "Thu, 13 Jun has a high of 86.47 degrees, which means it will be hot\n",
      "Fri, 14 Jun has a high of 88.67 degrees, which means it will be hot\n",
      "Sat, 15 Jun has a high of 91.11 degrees, which means it will be hot\n"
     ]
    }
   ],
   "source": [
    "forecast = terrell['daily']['data']\n",
    "\n",
    "for day in forecast:\n",
    "    print(time.strftime(\"%a, %d %b\", time.localtime(day['time'])), \"has a high of\", day['temperatureHigh'], \"degrees, which means it will be\", end = \" \")\n",
    "    if day['temperatureHigh'] > 85:\n",
    "        print(\"hot\")\n",
    "    elif day['temperatureHigh'] > 75:\n",
    "        print(\"warm\")\n",
    "    elif day['temperatureHigh'] < 55:\n",
    "        print(\"cold\")"
   ]
  },
  {
   "cell_type": "markdown",
   "metadata": {},
   "source": [
    "# 6) What will be the hottest day in the next week? What is the high temperature on that day?\n",
    "\n",
    "It's okay if your result looks like `1453363200`. If you want to be extra-fancy, though, format it as a **real date** - the weird number is called a **UNIX timestamp**, which might help in googling.\n",
    "\n",
    "- *Tip: It's okay to skip this if it seems too difficult!*"
   ]
  },
  {
   "cell_type": "code",
   "execution_count": 9,
   "metadata": {},
   "outputs": [
    {
     "name": "stdout",
     "output_type": "stream",
     "text": [
      "Sun, Jun 09, 19 will be the hottest day of the week with a high temperature of 92.06 degrees.\n"
     ]
    }
   ],
   "source": [
    "#print(terrell['daily']['data'])\n",
    "\n",
    "temp = 0\n",
    "weekday = 0\n",
    "for day in terrell['daily']['data']:\n",
    "    if day['temperatureHigh'] > temp:\n",
    "        temp = day['temperatureHigh']\n",
    "        weekday = day['time']\n",
    "\n",
    "print(time.strftime(\"%a, %b %d, %y\", time.localtime(weekday)), \"will be the hottest day of the week with a high temperature of\", temp, \"degrees.\")"
   ]
  },
  {
   "cell_type": "markdown",
   "metadata": {},
   "source": [
    "## 7) What's the weather looking like for the next 24+ hours in Miami, Florida?\n",
    "\n",
    "I'd like to know the temperature for every hour, and if it's going to have cloud cover of more than 50% say \"{temperature} and cloudy\" instead of just the temperature. \n",
    "\n",
    "\n",
    "- *Tip: Be sure to remember how latitude and longitude are done with positive and negative numbers*\n",
    "- *Tip: How do you represent \"50%\" for cloud cover?*"
   ]
  },
  {
   "cell_type": "code",
   "execution_count": 16,
   "metadata": {},
   "outputs": [],
   "source": [
    "## 25.7743,-80.1937\n",
    "\n",
    "response = requests.get(f\"https://api.darksky.net/forecast/{API_KEY}/25.7743,-80.1937\")\n",
    "miami = response.json()\n",
    "\n",
    "#miami['hourly']['data'][3]['cloudCover']\n",
    "## complete time : time.strftime(\"%a, %d %b %Y %H:%M:%S %Z\", time.localtime())"
   ]
  },
  {
   "cell_type": "code",
   "execution_count": 17,
   "metadata": {},
   "outputs": [
    {
     "name": "stdout",
     "output_type": "stream",
     "text": [
      "At 14 o'clock it will be 86.65 degrees and cloudy\n",
      "At 15 o'clock it will be 86.22 degrees and cloudy\n",
      "At 16 o'clock it will be 87.2 degrees and cloudy\n",
      "At 17 o'clock it will be 87.92 degrees and cloudy\n",
      "At 18 o'clock it will be 87.28 degrees and cloudy\n",
      "At 19 o'clock it will be 86.1 degrees and cloudy\n",
      "At 20 o'clock it will be 84.97 degrees and cloudy\n",
      "At 21 o'clock it will be 83.95 degrees\n",
      "At 22 o'clock it will be 83.26 degrees\n",
      "At 23 o'clock it will be 82.41 degrees\n",
      "At 00 o'clock it will be 81.66 degrees\n",
      "At 01 o'clock it will be 81.05 degrees\n",
      "At 02 o'clock it will be 79.1 degrees\n",
      "At 03 o'clock it will be 77.38 degrees\n",
      "At 04 o'clock it will be 77.57 degrees\n",
      "At 05 o'clock it will be 77.8 degrees\n",
      "At 06 o'clock it will be 78.24 degrees\n",
      "At 07 o'clock it will be 78.81 degrees\n",
      "At 08 o'clock it will be 80.04 degrees\n",
      "At 09 o'clock it will be 82.18 degrees\n",
      "At 10 o'clock it will be 84.22 degrees\n",
      "At 11 o'clock it will be 85.74 degrees\n",
      "At 12 o'clock it will be 87.18 degrees\n",
      "At 13 o'clock it will be 89.69 degrees\n",
      "At 14 o'clock it will be 91.04 degrees\n",
      "At 15 o'clock it will be 90.52 degrees\n",
      "At 16 o'clock it will be 89.17 degrees and cloudy\n",
      "At 17 o'clock it will be 87.56 degrees and cloudy\n",
      "At 18 o'clock it will be 86.18 degrees and cloudy\n",
      "At 19 o'clock it will be 84.7 degrees\n",
      "At 20 o'clock it will be 83.68 degrees\n",
      "At 21 o'clock it will be 83.05 degrees and cloudy\n",
      "At 22 o'clock it will be 82.73 degrees and cloudy\n",
      "At 23 o'clock it will be 82.33 degrees and cloudy\n",
      "At 00 o'clock it will be 81.73 degrees and cloudy\n",
      "At 01 o'clock it will be 81.29 degrees and cloudy\n",
      "At 02 o'clock it will be 79.42 degrees and cloudy\n",
      "At 03 o'clock it will be 77.68 degrees and cloudy\n",
      "At 04 o'clock it will be 77.61 degrees and cloudy\n",
      "At 05 o'clock it will be 77.74 degrees and cloudy\n",
      "At 06 o'clock it will be 78.27 degrees and cloudy\n",
      "At 07 o'clock it will be 79.14 degrees and cloudy\n",
      "At 08 o'clock it will be 80.63 degrees and cloudy\n",
      "At 09 o'clock it will be 82.66 degrees and cloudy\n",
      "At 10 o'clock it will be 84.42 degrees and cloudy\n",
      "At 11 o'clock it will be 85.65 degrees and cloudy\n",
      "At 12 o'clock it will be 87.04 degrees and cloudy\n",
      "At 13 o'clock it will be 89.56 degrees and cloudy\n",
      "At 14 o'clock it will be 90.92 degrees and cloudy\n"
     ]
    }
   ],
   "source": [
    "for hour in miami['hourly']['data']:\n",
    "    if (hour['cloudCover'] * 100) > 50:\n",
    "        print(\"At\", time.strftime(\"%H o'clock\", time.localtime(hour['time'])), \"it will be\", hour['temperature'], \"degrees and cloudy\")\n",
    "    else:\n",
    "        print(\"At\", time.strftime(\"%H o'clock\", time.localtime(hour['time'])), \"it will be\", hour['temperature'], \"degrees\")"
   ]
  },
  {
   "cell_type": "markdown",
   "metadata": {},
   "source": [
    "# 8) For the next 24-ish hours in Miami, what percent of the time is the temperature above 85 degrees?\n",
    "\n",
    "If they give you 48 hours instead of 24, that's okay.\n",
    "\n",
    "- *Tip: You might want to read up on [looping patterns](http://jonathansoma.com/lede/foundations-2017/classes/data%20structures/looping-patterns/)*"
   ]
  },
  {
   "cell_type": "code",
   "execution_count": 18,
   "metadata": {},
   "outputs": [
    {
     "name": "stdout",
     "output_type": "stream",
     "text": [
      "It will be above 85 degrees in Miami for 36.734693877551024 percent of the next 48 hours\n"
     ]
    }
   ],
   "source": [
    "count_temp = 0\n",
    "count_hours = 0\n",
    "\n",
    "for hour in miami['hourly']['data']:\n",
    "    count_hours = count_hours + 1\n",
    "    if hour['temperature'] > 85:\n",
    "        count_temp = count_temp + 1\n",
    "\n",
    "print(f\"It will be above 85 degrees in Miami for {(count_temp / count_hours) * 100} percent of the next 48 hours\")"
   ]
  },
  {
   "cell_type": "markdown",
   "metadata": {},
   "source": [
    "## 9) What was the temperature in Central Park on Christmas Day, 2012? How about 2007? 2005? How far back does the API allow you to go?\n",
    "\n",
    "- *Tip: You'll need to use UNIX time, which is the number of seconds since January 1, 1970. Google can help you convert a normal date!*\n",
    "- *Tip: You'll want to use Forecast.io's \"time machine\" API, [documentation here](https://darksky.net/dev/docs/time-machine)*"
   ]
  },
  {
   "cell_type": "code",
   "execution_count": 19,
   "metadata": {},
   "outputs": [
    {
     "data": {
      "text/plain": [
       "dict_keys(['latitude', 'longitude', 'timezone', 'currently', 'minutely', 'hourly', 'daily', 'flags', 'offset'])"
      ]
     },
     "execution_count": 19,
     "metadata": {},
     "output_type": "execute_result"
    }
   ],
   "source": [
    "# 1356454800 : 2012\n",
    "# 1198602000 : 2007\n",
    "# 1135530000 : 2005\n",
    "\n",
    "# 40.7829,-73.9654\n",
    "\n",
    "times = [1356454800, 1198602000,1135530000]\n",
    "\n",
    "central_park_url = f\"https://api.darksky.net/forecast/{API_KEY}/40.7829,-73.9654/\"\n",
    "response = requests.get(central_park_url)\n",
    "centralpark = response.json()\n",
    "\n",
    "centralpark.keys()"
   ]
  },
  {
   "cell_type": "code",
   "execution_count": 20,
   "metadata": {},
   "outputs": [
    {
     "name": "stdout",
     "output_type": "stream",
     "text": [
      "The temperature on Tue, Dec 25, 12 was 40.28 degrees.\n",
      "The temperature on Tue, Dec 25, 07 was 41.77 degrees.\n",
      "The temperature on Sun, Dec 25, 05 was 41.94 degrees.\n"
     ]
    }
   ],
   "source": [
    "for each in times:\n",
    "    centralpark_tm = f\"https://api.darksky.net/forecast/{API_KEY}/40.7829,-73.9654,{each}?\"\n",
    "    response = requests.get(centralpark_tm)\n",
    "    centralpark = response.json()\n",
    "    print(\"The temperature on\", time.strftime(\"%a, %b %d, %y\", time.localtime(each)), \"was\", centralpark['currently']['temperature'], \"degrees.\")"
   ]
  },
  {
   "cell_type": "code",
   "execution_count": null,
   "metadata": {},
   "outputs": [],
   "source": []
  }
 ],
 "metadata": {
  "kernelspec": {
   "display_name": "Python 3",
   "language": "python",
   "name": "python3"
  },
  "language_info": {
   "codemirror_mode": {
    "name": "ipython",
    "version": 3
   },
   "file_extension": ".py",
   "mimetype": "text/x-python",
   "name": "python",
   "nbconvert_exporter": "python",
   "pygments_lexer": "ipython3",
   "version": "3.7.3"
  }
 },
 "nbformat": 4,
 "nbformat_minor": 1
}
