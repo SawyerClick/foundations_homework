{
 "cells": [
  {
   "cell_type": "code",
   "execution_count": 108,
   "metadata": {},
   "outputs": [],
   "source": [
    "import pandas as pd\n",
    "import matplotlib\n",
    "import matplotlib.pyplot as plt\n",
    "import seaborn as sns\n",
    "matplotlib.rcParams['pdf.fonttype'] = 42\n",
    "import re\n",
    "import matplotlib.dates as dates\n",
    "import numpy as np\n",
    "%matplotlib inline"
   ]
  },
  {
   "cell_type": "code",
   "execution_count": 109,
   "metadata": {},
   "outputs": [],
   "source": [
    "gender_df = pd.read_csv(\"data/gender-by-quarter.csv\")"
   ]
  },
  {
   "cell_type": "code",
   "execution_count": 110,
   "metadata": {},
   "outputs": [
    {
     "data": {
      "text/html": [
       "<div>\n",
       "<style scoped>\n",
       "    .dataframe tbody tr th:only-of-type {\n",
       "        vertical-align: middle;\n",
       "    }\n",
       "\n",
       "    .dataframe tbody tr th {\n",
       "        vertical-align: top;\n",
       "    }\n",
       "\n",
       "    .dataframe thead th {\n",
       "        text-align: right;\n",
       "    }\n",
       "</style>\n",
       "<table border=\"1\" class=\"dataframe\">\n",
       "  <thead>\n",
       "    <tr style=\"text-align: right;\">\n",
       "      <th></th>\n",
       "      <th>quarter</th>\n",
       "      <th>toa_group</th>\n",
       "      <th>count_all</th>\n",
       "      <th>count_female</th>\n",
       "      <th>pct_female</th>\n",
       "    </tr>\n",
       "  </thead>\n",
       "  <tbody>\n",
       "    <tr>\n",
       "      <th>0</th>\n",
       "      <td>1998-09</td>\n",
       "      <td>all-permanent</td>\n",
       "      <td>1556531</td>\n",
       "      <td>667289</td>\n",
       "      <td>42.870267</td>\n",
       "    </tr>\n",
       "    <tr>\n",
       "      <th>1</th>\n",
       "      <td>1998-09</td>\n",
       "      <td>midlevel-appointees</td>\n",
       "      <td>1999</td>\n",
       "      <td>1009</td>\n",
       "      <td>50.475238</td>\n",
       "    </tr>\n",
       "    <tr>\n",
       "      <th>2</th>\n",
       "      <td>1999-09</td>\n",
       "      <td>all-permanent</td>\n",
       "      <td>1536156</td>\n",
       "      <td>660663</td>\n",
       "      <td>43.007546</td>\n",
       "    </tr>\n",
       "    <tr>\n",
       "      <th>3</th>\n",
       "      <td>1999-09</td>\n",
       "      <td>midlevel-appointees</td>\n",
       "      <td>2025</td>\n",
       "      <td>1018</td>\n",
       "      <td>50.271605</td>\n",
       "    </tr>\n",
       "    <tr>\n",
       "      <th>4</th>\n",
       "      <td>2000-09</td>\n",
       "      <td>all-permanent</td>\n",
       "      <td>1524883</td>\n",
       "      <td>658788</td>\n",
       "      <td>43.202528</td>\n",
       "    </tr>\n",
       "  </tbody>\n",
       "</table>\n",
       "</div>"
      ],
      "text/plain": [
       "   quarter            toa_group  count_all  count_female  pct_female\n",
       "0  1998-09        all-permanent    1556531        667289   42.870267\n",
       "1  1998-09  midlevel-appointees       1999          1009   50.475238\n",
       "2  1999-09        all-permanent    1536156        660663   43.007546\n",
       "3  1999-09  midlevel-appointees       2025          1018   50.271605\n",
       "4  2000-09        all-permanent    1524883        658788   43.202528"
      ]
     },
     "execution_count": 110,
     "metadata": {},
     "output_type": "execute_result"
    }
   ],
   "source": [
    "gender_df.head()"
   ]
  },
  {
   "cell_type": "code",
   "execution_count": 115,
   "metadata": {},
   "outputs": [],
   "source": [
    "gender_df['year'] = gender_df['quarter'].str.extract(r\"(.*)-\").astype(int)"
   ]
  },
  {
   "cell_type": "code",
   "execution_count": 116,
   "metadata": {},
   "outputs": [
    {
     "data": {
      "text/plain": [
       "quarter          object\n",
       "toa_group        object\n",
       "count_all         int64\n",
       "count_female      int64\n",
       "pct_female      float64\n",
       "year              int32\n",
       "dtype: object"
      ]
     },
     "execution_count": 116,
     "metadata": {},
     "output_type": "execute_result"
    }
   ],
   "source": [
    "gender_df.dtypes"
   ]
  },
  {
   "cell_type": "code",
   "execution_count": 188,
   "metadata": {},
   "outputs": [
    {
     "data": {
      "image/png": "[encoded data removed]",
      "text/plain": [
       "<Figure size 720x432 with 1 Axes>"
      ]
     },
     "metadata": {
      "needs_background": "light"
     },
     "output_type": "display_data"
    }
   ],
   "source": [
    "ax = gender_df[gender_df.toa_group == 'all-permanent'].plot(style='.-', x='year', y='pct_female', color='black', marker='o', markeredgecolor='black', markerfacecolor='white', markersize=8, linewidth=4)\n",
    "gender_df[gender_df.toa_group == 'midlevel-appointees'].plot(ax=ax, style='.-', x='year', y='pct_female', color='red', marker='o', figsize=(10,6), markeredgecolor='red', markerfacecolor='white', markersize=8, linewidth=4)\n",
    "\n",
    "plt.xticks(np.arange(min(gender_df.year), max(gender_df.year)+1, 1.0))\n",
    "plt.xticks(rotation=-90)\n",
    "ax.set_ylim(0,60)\n",
    "ax.get_legend().remove()\n",
    "ax.set_title('% of Federal Employees Identifying as Female')\n",
    "ax.grid('on', axis='y', which='major', linestyle='-', linewidth='0.5', color='gray')\n",
    "plt.savefig(\"BF_1.pdf\")"
   ]
  },
  {
   "cell_type": "code",
   "execution_count": null,
   "metadata": {},
   "outputs": [],
   "source": []
  },
  {
   "cell_type": "code",
   "execution_count": 7,
   "metadata": {},
   "outputs": [],
   "source": [
    "diversity_df = pd.read_csv(\"data/diversity-by-quarter.csv\")"
   ]
  },
  {
   "cell_type": "code",
   "execution_count": 8,
   "metadata": {},
   "outputs": [
    {
     "data": {
      "text/html": [
       "<div>\n",
       "<style scoped>\n",
       "    .dataframe tbody tr th:only-of-type {\n",
       "        vertical-align: middle;\n",
       "    }\n",
       "\n",
       "    .dataframe tbody tr th {\n",
       "        vertical-align: top;\n",
       "    }\n",
       "\n",
       "    .dataframe thead th {\n",
       "        text-align: right;\n",
       "    }\n",
       "</style>\n",
       "<table border=\"1\" class=\"dataframe\">\n",
       "  <thead>\n",
       "    <tr style=\"text-align: right;\">\n",
       "      <th></th>\n",
       "      <th>quarter</th>\n",
       "      <th>toa_group</th>\n",
       "      <th>count_all</th>\n",
       "      <th>count_minority</th>\n",
       "      <th>pct_minority</th>\n",
       "    </tr>\n",
       "  </thead>\n",
       "  <tbody>\n",
       "    <tr>\n",
       "      <th>0</th>\n",
       "      <td>2006-09</td>\n",
       "      <td>all-permanent</td>\n",
       "      <td>1608157</td>\n",
       "      <td>521323</td>\n",
       "      <td>32.417419</td>\n",
       "    </tr>\n",
       "    <tr>\n",
       "      <th>1</th>\n",
       "      <td>2006-09</td>\n",
       "      <td>midlevel-appointees</td>\n",
       "      <td>2246</td>\n",
       "      <td>268</td>\n",
       "      <td>11.932324</td>\n",
       "    </tr>\n",
       "    <tr>\n",
       "      <th>2</th>\n",
       "      <td>2007-09</td>\n",
       "      <td>all-permanent</td>\n",
       "      <td>1618159</td>\n",
       "      <td>532756</td>\n",
       "      <td>32.923588</td>\n",
       "    </tr>\n",
       "    <tr>\n",
       "      <th>3</th>\n",
       "      <td>2007-09</td>\n",
       "      <td>midlevel-appointees</td>\n",
       "      <td>2315</td>\n",
       "      <td>259</td>\n",
       "      <td>11.187905</td>\n",
       "    </tr>\n",
       "    <tr>\n",
       "      <th>4</th>\n",
       "      <td>2008-09</td>\n",
       "      <td>all-permanent</td>\n",
       "      <td>1673249</td>\n",
       "      <td>560098</td>\n",
       "      <td>33.473679</td>\n",
       "    </tr>\n",
       "  </tbody>\n",
       "</table>\n",
       "</div>"
      ],
      "text/plain": [
       "   quarter            toa_group  count_all  count_minority  pct_minority\n",
       "0  2006-09        all-permanent    1608157          521323     32.417419\n",
       "1  2006-09  midlevel-appointees       2246             268     11.932324\n",
       "2  2007-09        all-permanent    1618159          532756     32.923588\n",
       "3  2007-09  midlevel-appointees       2315             259     11.187905\n",
       "4  2008-09        all-permanent    1673249          560098     33.473679"
      ]
     },
     "execution_count": 8,
     "metadata": {},
     "output_type": "execute_result"
    }
   ],
   "source": [
    "diversity_df.head()"
   ]
  },
  {
   "cell_type": "code",
   "execution_count": 180,
   "metadata": {},
   "outputs": [],
   "source": [
    "diversity_df['year'] = diversity_df['quarter'].str.extract(r\"(.*)-\").astype(int)"
   ]
  },
  {
   "cell_type": "code",
   "execution_count": 181,
   "metadata": {
    "scrolled": true
   },
   "outputs": [
    {
     "data": {
      "text/plain": [
       "quarter            object\n",
       "toa_group          object\n",
       "count_all           int64\n",
       "count_minority      int64\n",
       "pct_minority      float64\n",
       "year                int32\n",
       "dtype: object"
      ]
     },
     "execution_count": 181,
     "metadata": {},
     "output_type": "execute_result"
    }
   ],
   "source": [
    "diversity_df.dtypes"
   ]
  },
  {
   "cell_type": "code",
   "execution_count": 189,
   "metadata": {},
   "outputs": [
    {
     "data": {
      "image/png": "[encoded data removed]",
      "text/plain": [
       "<Figure size 720x432 with 1 Axes>"
      ]
     },
     "metadata": {
      "needs_background": "light"
     },
     "output_type": "display_data"
    }
   ],
   "source": [
    "ax = diversity_df[diversity_df.toa_group == 'all-permanent'].plot(style='.-', x='year', y='pct_minority', color='black', marker='o', markeredgecolor='black', markerfacecolor='white', markersize=8, linewidth=4)\n",
    "diversity_df[diversity_df.toa_group == 'midlevel-appointees'].plot(ax=ax, style='.-', x='year', y='pct_minority', color='red', marker='o', figsize=(10,6), markeredgecolor='red', markerfacecolor='white', markersize=8, linewidth=4)\n",
    "\n",
    "plt.xticks(np.arange(min(diversity_df.year), max(diversity_df.year)+1, 1))\n",
    "plt.xticks(rotation=-90)\n",
    "ax.set_ylim(0,60)\n",
    "ax.get_legend().remove()\n",
    "ax.set_title('% of Fed. Employees Identifying as Racial/Ethnic Minority')\n",
    "ax.grid('on', axis='y', which='major', linestyle='-', linewidth='0.5', color='gray')\n",
    "plt.savefig(\"BF_2.pdf\")"
   ]
  },
  {
   "cell_type": "code",
   "execution_count": null,
   "metadata": {},
   "outputs": [],
   "source": []
  }
 ],
 "metadata": {
  "kernelspec": {
   "display_name": "Python 3",
   "language": "python",
   "name": "python3"
  },
  "language_info": {
   "codemirror_mode": {
    "name": "ipython",
    "version": 3
   },
   "file_extension": ".py",
   "mimetype": "text/x-python",
   "name": "python",
   "nbconvert_exporter": "python",
   "pygments_lexer": "ipython3",
   "version": "3.7.3"
  }
 },
 "nbformat": 4,
 "nbformat_minor": 2
}
