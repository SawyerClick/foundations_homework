{
 "cells": [
  {
   "cell_type": "markdown",
   "metadata": {},
   "source": [
    "# NEISS\n",
    "\n",
    "* **Dataset:** `neiss2017.tsv` - NEISS, again! But an old one, because the newer one is too nice.\n",
    "* **Source:** https://www.cpsc.gov/Research--Statistics/NEISS-Injury-Data"
   ]
  },
  {
   "cell_type": "markdown",
   "metadata": {},
   "source": [
    "## 0) Import what you need"
   ]
  },
  {
   "cell_type": "code",
   "execution_count": 9,
   "metadata": {},
   "outputs": [],
   "source": [
    "import pandas as pd\n",
    "import numpy as np\n",
    "import re\n",
    "import matplotlib.pyplot as plt\n",
    "\n",
    "%matplotlib inline"
   ]
  },
  {
   "cell_type": "markdown",
   "metadata": {},
   "source": [
    "# Read in `neiss2017.tsv` and inspect your data\n",
    "\n",
    "* Check out the first few lines, the last few lines\n",
    "* See how many rows and columns it is\n",
    "* Check data types to be sure they are what you think they are\n",
    "* If you already know some values that should be NaN, you can use `na_values` to set them up"
   ]
  },
  {
   "cell_type": "code",
   "execution_count": 10,
   "metadata": {},
   "outputs": [
    {
     "data": {
      "text/html": [
       "<div>\n",
       "<style scoped>\n",
       "    .dataframe tbody tr th:only-of-type {\n",
       "        vertical-align: middle;\n",
       "    }\n",
       "\n",
       "    .dataframe tbody tr th {\n",
       "        vertical-align: top;\n",
       "    }\n",
       "\n",
       "    .dataframe thead th {\n",
       "        text-align: right;\n",
       "    }\n",
       "</style>\n",
       "<table border=\"1\" class=\"dataframe\">\n",
       "  <thead>\n",
       "    <tr style=\"text-align: right;\">\n",
       "      <th></th>\n",
       "      <th>CPSC_Case_Number</th>\n",
       "      <th>Treatment_Date</th>\n",
       "      <th>Age</th>\n",
       "      <th>Sex</th>\n",
       "      <th>Race</th>\n",
       "      <th>Other_Race</th>\n",
       "      <th>Body_Part</th>\n",
       "      <th>Diagnosis</th>\n",
       "      <th>Other_Diagnosis</th>\n",
       "      <th>Disposition</th>\n",
       "      <th>Location</th>\n",
       "      <th>Fire_Involvement</th>\n",
       "      <th>Product_1</th>\n",
       "      <th>Product_2</th>\n",
       "      <th>Narrative_1</th>\n",
       "      <th>Narrative_2</th>\n",
       "      <th>Stratum</th>\n",
       "      <th>PSU</th>\n",
       "      <th>Weight</th>\n",
       "    </tr>\n",
       "  </thead>\n",
       "  <tbody>\n",
       "    <tr>\n",
       "      <th>0</th>\n",
       "      <td>170100733</td>\n",
       "      <td>01/01/2017</td>\n",
       "      <td>21</td>\n",
       "      <td>1</td>\n",
       "      <td>1.0</td>\n",
       "      <td>NaN</td>\n",
       "      <td>75.0</td>\n",
       "      <td>62.0</td>\n",
       "      <td>NaN</td>\n",
       "      <td>1.0</td>\n",
       "      <td>1.0</td>\n",
       "      <td>0.0</td>\n",
       "      <td>1207.0</td>\n",
       "      <td>0.0</td>\n",
       "      <td>21YOM WAS BOXING WITH FRIEND WHILE DRINKING AN...</td>\n",
       "      <td>. BAC= 93.6 DX HEAD INJURY AND ALCOHOL INTOXIC...</td>\n",
       "      <td>S</td>\n",
       "      <td>46.0</td>\n",
       "      <td>77.6641</td>\n",
       "    </tr>\n",
       "    <tr>\n",
       "      <th>1</th>\n",
       "      <td>170100734</td>\n",
       "      <td>01/01/2017</td>\n",
       "      <td>71</td>\n",
       "      <td>1</td>\n",
       "      <td>1.0</td>\n",
       "      <td>NaN</td>\n",
       "      <td>31.0</td>\n",
       "      <td>53.0</td>\n",
       "      <td>NaN</td>\n",
       "      <td>1.0</td>\n",
       "      <td>5.0</td>\n",
       "      <td>0.0</td>\n",
       "      <td>1807.0</td>\n",
       "      <td>0.0</td>\n",
       "      <td>71YOM FELL ON FLOOR IN BATHROOM. DX RIB CONTUSION</td>\n",
       "      <td>NaN</td>\n",
       "      <td>S</td>\n",
       "      <td>46.0</td>\n",
       "      <td>77.6641</td>\n",
       "    </tr>\n",
       "    <tr>\n",
       "      <th>2</th>\n",
       "      <td>170100735</td>\n",
       "      <td>01/01/2017</td>\n",
       "      <td>16</td>\n",
       "      <td>1</td>\n",
       "      <td>1.0</td>\n",
       "      <td>NaN</td>\n",
       "      <td>33.0</td>\n",
       "      <td>51.0</td>\n",
       "      <td>NaN</td>\n",
       "      <td>1.0</td>\n",
       "      <td>1.0</td>\n",
       "      <td>0.0</td>\n",
       "      <td>676.0</td>\n",
       "      <td>342.0</td>\n",
       "      <td>16YOM TRIPPED OVER A RUG AND FELL INTO A BURNI...</td>\n",
       "      <td>DX BURNS INVOLVING LESS THAN 10% OF BODY SURFA...</td>\n",
       "      <td>S</td>\n",
       "      <td>46.0</td>\n",
       "      <td>77.6641</td>\n",
       "    </tr>\n",
       "    <tr>\n",
       "      <th>3</th>\n",
       "      <td>170100737</td>\n",
       "      <td>01/01/2017</td>\n",
       "      <td>55</td>\n",
       "      <td>2</td>\n",
       "      <td>1.0</td>\n",
       "      <td>NaN</td>\n",
       "      <td>75.0</td>\n",
       "      <td>62.0</td>\n",
       "      <td>NaN</td>\n",
       "      <td>1.0</td>\n",
       "      <td>1.0</td>\n",
       "      <td>0.0</td>\n",
       "      <td>620.0</td>\n",
       "      <td>0.0</td>\n",
       "      <td>55YOF WAS STANDING ON A STEP STOOL AND LOST FO...</td>\n",
       "      <td>HEAD INJURY</td>\n",
       "      <td>S</td>\n",
       "      <td>46.0</td>\n",
       "      <td>77.6641</td>\n",
       "    </tr>\n",
       "    <tr>\n",
       "      <th>4</th>\n",
       "      <td>170100740</td>\n",
       "      <td>01/01/2017</td>\n",
       "      <td>86</td>\n",
       "      <td>2</td>\n",
       "      <td>1.0</td>\n",
       "      <td>NaN</td>\n",
       "      <td>79.0</td>\n",
       "      <td>58.0</td>\n",
       "      <td>NaN</td>\n",
       "      <td>1.0</td>\n",
       "      <td>1.0</td>\n",
       "      <td>0.0</td>\n",
       "      <td>1646.0</td>\n",
       "      <td>4056.0</td>\n",
       "      <td>86YOF GOT TANGLED IN COAT AND FELL BACKWARD ST...</td>\n",
       "      <td>H. DX HEMATOMA OF SOFT TISSUE, LEFT FLANK</td>\n",
       "      <td>S</td>\n",
       "      <td>46.0</td>\n",
       "      <td>77.6641</td>\n",
       "    </tr>\n",
       "  </tbody>\n",
       "</table>\n",
       "</div>"
      ],
      "text/plain": [
       "  CPSC_Case_Number Treatment_Date Age  Sex  Race Other_Race  Body_Part  \\\n",
       "0        170100733     01/01/2017  21    1   1.0        NaN       75.0   \n",
       "1        170100734     01/01/2017  71    1   1.0        NaN       31.0   \n",
       "2        170100735     01/01/2017  16    1   1.0        NaN       33.0   \n",
       "3        170100737     01/01/2017  55    2   1.0        NaN       75.0   \n",
       "4        170100740     01/01/2017  86    2   1.0        NaN       79.0   \n",
       "\n",
       "   Diagnosis Other_Diagnosis  Disposition  Location  Fire_Involvement  \\\n",
       "0       62.0             NaN          1.0       1.0               0.0   \n",
       "1       53.0             NaN          1.0       5.0               0.0   \n",
       "2       51.0             NaN          1.0       1.0               0.0   \n",
       "3       62.0             NaN          1.0       1.0               0.0   \n",
       "4       58.0             NaN          1.0       1.0               0.0   \n",
       "\n",
       "   Product_1  Product_2                                        Narrative_1  \\\n",
       "0     1207.0        0.0  21YOM WAS BOXING WITH FRIEND WHILE DRINKING AN...   \n",
       "1     1807.0        0.0  71YOM FELL ON FLOOR IN BATHROOM. DX RIB CONTUSION   \n",
       "2      676.0      342.0  16YOM TRIPPED OVER A RUG AND FELL INTO A BURNI...   \n",
       "3      620.0        0.0  55YOF WAS STANDING ON A STEP STOOL AND LOST FO...   \n",
       "4     1646.0     4056.0  86YOF GOT TANGLED IN COAT AND FELL BACKWARD ST...   \n",
       "\n",
       "                                         Narrative_2 Stratum   PSU   Weight  \n",
       "0  . BAC= 93.6 DX HEAD INJURY AND ALCOHOL INTOXIC...       S  46.0  77.6641  \n",
       "1                                                NaN       S  46.0  77.6641  \n",
       "2  DX BURNS INVOLVING LESS THAN 10% OF BODY SURFA...       S  46.0  77.6641  \n",
       "3                                        HEAD INJURY       S  46.0  77.6641  \n",
       "4          H. DX HEMATOMA OF SOFT TISSUE, LEFT FLANK       S  46.0  77.6641  "
      ]
     },
     "execution_count": 10,
     "metadata": {},
     "output_type": "execute_result"
    }
   ],
   "source": [
    "df = pd.read_csv(\"neiss2017.tsv\", sep=\"\\t\", encoding=\"Latin-1\")\n",
    "df.head()"
   ]
  },
  {
   "cell_type": "code",
   "execution_count": 11,
   "metadata": {},
   "outputs": [
    {
     "data": {
      "text/html": [
       "<div>\n",
       "<style scoped>\n",
       "    .dataframe tbody tr th:only-of-type {\n",
       "        vertical-align: middle;\n",
       "    }\n",
       "\n",
       "    .dataframe tbody tr th {\n",
       "        vertical-align: top;\n",
       "    }\n",
       "\n",
       "    .dataframe thead th {\n",
       "        text-align: right;\n",
       "    }\n",
       "</style>\n",
       "<table border=\"1\" class=\"dataframe\">\n",
       "  <thead>\n",
       "    <tr style=\"text-align: right;\">\n",
       "      <th></th>\n",
       "      <th>CPSC_Case_Number</th>\n",
       "      <th>Treatment_Date</th>\n",
       "      <th>Age</th>\n",
       "      <th>Sex</th>\n",
       "      <th>Race</th>\n",
       "      <th>Other_Race</th>\n",
       "      <th>Body_Part</th>\n",
       "      <th>Diagnosis</th>\n",
       "      <th>Other_Diagnosis</th>\n",
       "      <th>Disposition</th>\n",
       "      <th>Location</th>\n",
       "      <th>Fire_Involvement</th>\n",
       "      <th>Product_1</th>\n",
       "      <th>Product_2</th>\n",
       "      <th>Narrative_1</th>\n",
       "      <th>Narrative_2</th>\n",
       "      <th>Stratum</th>\n",
       "      <th>PSU</th>\n",
       "      <th>Weight</th>\n",
       "    </tr>\n",
       "  </thead>\n",
       "  <tbody>\n",
       "    <tr>\n",
       "      <th>386902</th>\n",
       "      <td>180309762</td>\n",
       "      <td>12/30/2017</td>\n",
       "      <td>2</td>\n",
       "      <td>2</td>\n",
       "      <td>1.0</td>\n",
       "      <td>NaN</td>\n",
       "      <td>85.0</td>\n",
       "      <td>68.0</td>\n",
       "      <td>NaN</td>\n",
       "      <td>4.0</td>\n",
       "      <td>1.0</td>\n",
       "      <td>0.0</td>\n",
       "      <td>1931.0</td>\n",
       "      <td>0.0</td>\n",
       "      <td>2YR F INGESTED 9 OF MOTHERS GLIPIZIDE PILLS;DX...</td>\n",
       "      <td>NaN</td>\n",
       "      <td>C</td>\n",
       "      <td>20.0</td>\n",
       "      <td>4.757</td>\n",
       "    </tr>\n",
       "    <tr>\n",
       "      <th>386903</th>\n",
       "      <td>180309763</td>\n",
       "      <td>12/31/2017</td>\n",
       "      <td>212</td>\n",
       "      <td>2</td>\n",
       "      <td>2.0</td>\n",
       "      <td>NaN</td>\n",
       "      <td>92.0</td>\n",
       "      <td>50.0</td>\n",
       "      <td>NaN</td>\n",
       "      <td>4.0</td>\n",
       "      <td>1.0</td>\n",
       "      <td>0.0</td>\n",
       "      <td>4076.0</td>\n",
       "      <td>0.0</td>\n",
       "      <td>12MO F PT LYING IN BED, THERE WAS A DRIVE-BY S...</td>\n",
       "      <td>UGH WALL AND HIT PT IN BED; DX AMPUTATED THUMB</td>\n",
       "      <td>C</td>\n",
       "      <td>20.0</td>\n",
       "      <td>4.757</td>\n",
       "    </tr>\n",
       "    <tr>\n",
       "      <th>386904</th>\n",
       "      <td>180309764</td>\n",
       "      <td>12/31/2017</td>\n",
       "      <td>218</td>\n",
       "      <td>1</td>\n",
       "      <td>1.0</td>\n",
       "      <td>NaN</td>\n",
       "      <td>81.0</td>\n",
       "      <td>57.0</td>\n",
       "      <td>NaN</td>\n",
       "      <td>4.0</td>\n",
       "      <td>1.0</td>\n",
       "      <td>0.0</td>\n",
       "      <td>1395.0</td>\n",
       "      <td>0.0</td>\n",
       "      <td>18MO M SLIPPED ON TOY;DX FEMUR FX</td>\n",
       "      <td>NaN</td>\n",
       "      <td>C</td>\n",
       "      <td>20.0</td>\n",
       "      <td>4.757</td>\n",
       "    </tr>\n",
       "    <tr>\n",
       "      <th>386905</th>\n",
       "      <td>180309765</td>\n",
       "      <td>12/31/2017</td>\n",
       "      <td>202</td>\n",
       "      <td>1</td>\n",
       "      <td>1.0</td>\n",
       "      <td>NaN</td>\n",
       "      <td>75.0</td>\n",
       "      <td>57.0</td>\n",
       "      <td>NaN</td>\n",
       "      <td>4.0</td>\n",
       "      <td>1.0</td>\n",
       "      <td>0.0</td>\n",
       "      <td>1842.0</td>\n",
       "      <td>0.0</td>\n",
       "      <td>2MO M DAD FELL ON STAIRS WHILE HOLDING BABY;DX...</td>\n",
       "      <td>NaN</td>\n",
       "      <td>C</td>\n",
       "      <td>20.0</td>\n",
       "      <td>4.757</td>\n",
       "    </tr>\n",
       "    <tr>\n",
       "      <th>386906</th>\n",
       "      <td>180309766</td>\n",
       "      <td>12/31/2017</td>\n",
       "      <td>2</td>\n",
       "      <td>2</td>\n",
       "      <td>1.0</td>\n",
       "      <td>NaN</td>\n",
       "      <td>85.0</td>\n",
       "      <td>68.0</td>\n",
       "      <td>NaN</td>\n",
       "      <td>4.0</td>\n",
       "      <td>1.0</td>\n",
       "      <td>0.0</td>\n",
       "      <td>1931.0</td>\n",
       "      <td>0.0</td>\n",
       "      <td>2YR F GOT INTO DAD'S ***;DX ACCIDENTAL DRUG IN...</td>\n",
       "      <td>NaN</td>\n",
       "      <td>C</td>\n",
       "      <td>20.0</td>\n",
       "      <td>4.757</td>\n",
       "    </tr>\n",
       "  </tbody>\n",
       "</table>\n",
       "</div>"
      ],
      "text/plain": [
       "       CPSC_Case_Number Treatment_Date  Age  Sex  Race Other_Race  Body_Part  \\\n",
       "386902        180309762     12/30/2017    2    2   1.0        NaN       85.0   \n",
       "386903        180309763     12/31/2017  212    2   2.0        NaN       92.0   \n",
       "386904        180309764     12/31/2017  218    1   1.0        NaN       81.0   \n",
       "386905        180309765     12/31/2017  202    1   1.0        NaN       75.0   \n",
       "386906        180309766     12/31/2017    2    2   1.0        NaN       85.0   \n",
       "\n",
       "        Diagnosis Other_Diagnosis  Disposition  Location  Fire_Involvement  \\\n",
       "386902       68.0             NaN          4.0       1.0               0.0   \n",
       "386903       50.0             NaN          4.0       1.0               0.0   \n",
       "386904       57.0             NaN          4.0       1.0               0.0   \n",
       "386905       57.0             NaN          4.0       1.0               0.0   \n",
       "386906       68.0             NaN          4.0       1.0               0.0   \n",
       "\n",
       "        Product_1  Product_2  \\\n",
       "386902     1931.0        0.0   \n",
       "386903     4076.0        0.0   \n",
       "386904     1395.0        0.0   \n",
       "386905     1842.0        0.0   \n",
       "386906     1931.0        0.0   \n",
       "\n",
       "                                              Narrative_1  \\\n",
       "386902  2YR F INGESTED 9 OF MOTHERS GLIPIZIDE PILLS;DX...   \n",
       "386903  12MO F PT LYING IN BED, THERE WAS A DRIVE-BY S...   \n",
       "386904                  18MO M SLIPPED ON TOY;DX FEMUR FX   \n",
       "386905  2MO M DAD FELL ON STAIRS WHILE HOLDING BABY;DX...   \n",
       "386906  2YR F GOT INTO DAD'S ***;DX ACCIDENTAL DRUG IN...   \n",
       "\n",
       "                                           Narrative_2 Stratum   PSU  Weight  \n",
       "386902                                             NaN       C  20.0   4.757  \n",
       "386903  UGH WALL AND HIT PT IN BED; DX AMPUTATED THUMB       C  20.0   4.757  \n",
       "386904                                             NaN       C  20.0   4.757  \n",
       "386905                                             NaN       C  20.0   4.757  \n",
       "386906                                             NaN       C  20.0   4.757  "
      ]
     },
     "execution_count": 11,
     "metadata": {},
     "output_type": "execute_result"
    }
   ],
   "source": [
    "df.tail()"
   ]
  },
  {
   "cell_type": "markdown",
   "metadata": {},
   "source": [
    "## Remove dirty data\n",
    "\n",
    "Last time we discovered the row where Treatment Date is missing is bad, so let's remove every row where `Treatment Date` is `NaN`."
   ]
  },
  {
   "cell_type": "code",
   "execution_count": 12,
   "metadata": {},
   "outputs": [],
   "source": [
    "df = df.dropna(subset=['Treatment_Date'])"
   ]
  },
  {
   "cell_type": "markdown",
   "metadata": {},
   "source": [
    "We also didn't like babies under the age of 2. Remove anyone who is 200 or older.\n",
    "\n",
    "* **Tip:** Removing anyone 200 or older is the same as only keeping anyone under 200\n",
    "* **Tip:** Because of the bad data, `df.Age` is probably a string"
   ]
  },
  {
   "cell_type": "code",
   "execution_count": 13,
   "metadata": {},
   "outputs": [],
   "source": [
    "df = df[df.Age.astype(int) < 200].copy()"
   ]
  },
  {
   "cell_type": "markdown",
   "metadata": {},
   "source": [
    "If you do this correctly, `df.Age.median()` should be 26."
   ]
  },
  {
   "cell_type": "code",
   "execution_count": 14,
   "metadata": {},
   "outputs": [
    {
     "data": {
      "text/plain": [
       "26.0"
      ]
     },
     "execution_count": 14,
     "metadata": {},
     "output_type": "execute_result"
    }
   ],
   "source": [
    "df.Age.median()"
   ]
  },
  {
   "cell_type": "markdown",
   "metadata": {},
   "source": [
    "# Recoding your data\n",
    "\n",
    "Right now `Sex` is `0`, `1`, `2`, and `Race`, `Product_1`, and a lot of other fields are secret codes. Let's fix this up! In class we did a lot of `.replace(...)` by manually typing in, but there's an easier way.\n",
    "\n",
    "## Recode with the CSV\n",
    "\n",
    "There's a text file called `neiss_fmt.txt` in this folder that explains what all the codes are. Read it in, paying attention to what the separator is.\n",
    "\n",
    "* **Tip:** Don't call it `df` or your other dataframe will disappear! Maybe call it `codes` or something."
   ]
  },
  {
   "cell_type": "code",
   "execution_count": null,
   "metadata": {},
   "outputs": [],
   "source": []
  },
  {
   "cell_type": "markdown",
   "metadata": {},
   "source": [
    "### What are all the different 'Format name's?"
   ]
  },
  {
   "cell_type": "code",
   "execution_count": null,
   "metadata": {},
   "outputs": [],
   "source": []
  },
  {
   "cell_type": "markdown",
   "metadata": {},
   "source": [
    "What do they mean?\n",
    "\n",
    "* `PROD` is product\n",
    "* `DIAG` is diagnosis\n",
    "* `BDYPT` is the body part injured\n",
    "* `AGELTTWO` is for the of people less than 2\n",
    "* `LOC` is location\n",
    "* `DISP` is disposition (outcome)\n",
    "* `RACE` is the person's race\n",
    "* `FIRE` is whether this was fire-related\n",
    "* `GENDER` matches up with the `Sex` column\n",
    "\n",
    "Each of these is a **separate set of codes**. \n",
    "\n",
    "### Look at just the codes related to `GENDER`.\n",
    "\n",
    "* **Hint:** Make sure when you filter you don't try to filter through `df`! It's really easy to forget this dataframe is named `codes` and do something like `df[codes.name == \"blah blah\"]`."
   ]
  },
  {
   "cell_type": "code",
   "execution_count": null,
   "metadata": {},
   "outputs": [],
   "source": []
  },
  {
   "cell_type": "markdown",
   "metadata": {},
   "source": [
    "### Convert the codes into a dictionary\n",
    "\n",
    "We can use this with `.replace` if we can somehow turn it into a dictionary! In class, we used this code:\n",
    "\n",
    "```\n",
    "dict(zip(code.code, code.name))\n",
    "```\n",
    "\n",
    "to create a dictionary where the keys were the `code` column and the values were the `name` column. Try to turn **just the `GENDER` results** into a dictionary. Your result should look like this:\n",
    "\n",
    "```\n",
    "{0: 'UNKNOWN', 1: 'MALE', 2: 'FEMALE'}\n",
    "```\n",
    "\n",
    "* **Tip:** `\"Starting value for format\"` is the code - it's always equal the `Ending value` except for the weird name stuff.\n",
    "* **Tip:** It might be useful to save your filtered dataframe into something like `gender_codes` to keep your code clean."
   ]
  },
  {
   "cell_type": "code",
   "execution_count": null,
   "metadata": {},
   "outputs": [],
   "source": []
  },
  {
   "cell_type": "markdown",
   "metadata": {},
   "source": [
    "### Use that dictionary to decode your `Sex` column\n",
    "\n",
    "Convert your `Sex` column into being `MALE`, `FEMALE`, and `UNKNOWN`. When you're done, your `df.Sex.value_counts()` should look like this:\n",
    "\n",
    "```\n",
    "MALE      208695\n",
    "FEMALE    178203\n",
    "Name: Sex, dtype: int64\n",
    "```\n",
    "\n",
    "It might have some `UNKNOWN` if you didn't do `na_values=[0...` when reading in your csv, but that's okay!\n",
    "\n",
    "* **Hint:** Remember that when you update a column you need to save the changes back into the column\n",
    "* **Hint:** You should probably save your dictionary into a new variable, maybe `gender_code_dict`"
   ]
  },
  {
   "cell_type": "code",
   "execution_count": null,
   "metadata": {},
   "outputs": [],
   "source": []
  },
  {
   "cell_type": "code",
   "execution_count": null,
   "metadata": {},
   "outputs": [],
   "source": []
  },
  {
   "cell_type": "markdown",
   "metadata": {},
   "source": [
    "## Decode the rest of your columns!"
   ]
  },
  {
   "cell_type": "markdown",
   "metadata": {},
   "source": [
    "Use `RACE` and `PROD` and `BDYPRT` to un-encode in the appropriate columns.\n",
    "\n",
    "You'll need to do all of the same stuff you did above - filter `codes`, build the dictionary, use `.replace` - but it shouldn't be so bad if you cut and paste well (3 lines per replace, but **be careful** - if you accidentally overwrite one of your columns with the wrong data, you'll need to restart your kernel and re-run your cells).\n",
    "\n",
    "* **Tip:** Look at the `.value_counts()` we did before for `Format name`, and compare it with your column names in your `df`. Or you can be responsible and read the codebook, but you can probably guess!"
   ]
  },
  {
   "cell_type": "code",
   "execution_count": null,
   "metadata": {},
   "outputs": [],
   "source": []
  },
  {
   "cell_type": "code",
   "execution_count": null,
   "metadata": {},
   "outputs": [],
   "source": []
  },
  {
   "cell_type": "code",
   "execution_count": null,
   "metadata": {},
   "outputs": [],
   "source": []
  },
  {
   "cell_type": "markdown",
   "metadata": {},
   "source": [
    "## Test your decoding:\n",
    "\n",
    "**Did you decode things correctly?** Let's find out!\n",
    "\n",
    "`df.Body_Part.value_counts().head(2)` should give you\n",
    "\n",
    "```\n",
    "75 - HEAD    63798\n",
    "76 - FACE    32879\n",
    "```"
   ]
  },
  {
   "cell_type": "code",
   "execution_count": null,
   "metadata": {},
   "outputs": [],
   "source": []
  },
  {
   "cell_type": "markdown",
   "metadata": {},
   "source": [
    "`df.Race.value_counts().head(2)` should give you\n",
    "\n",
    "```\n",
    "WHITE                     160527\n",
    "BLACK/AFRICAN AMERICAN     55144\n",
    "```"
   ]
  },
  {
   "cell_type": "code",
   "execution_count": null,
   "metadata": {},
   "outputs": [],
   "source": []
  },
  {
   "cell_type": "markdown",
   "metadata": {},
   "source": [
    "`df.Product_1.value_counts().head(2)` should give you\n",
    "\n",
    "```\n",
    "1842 - STAIRS OR STEPS                 30647\n",
    "1807 - FLOORS OR FLOORING MATERIALS    29629\n",
    "```"
   ]
  },
  {
   "cell_type": "code",
   "execution_count": null,
   "metadata": {},
   "outputs": [],
   "source": []
  },
  {
   "cell_type": "markdown",
   "metadata": {},
   "source": [
    "## Save a checkpoint!\n",
    "\n",
    "I like that we cleaned it up, save the file as `neiss_cleaned_decoded.csv`\n",
    "\n",
    "* **Tip:** Don't you dare let the index get saved"
   ]
  },
  {
   "cell_type": "code",
   "execution_count": null,
   "metadata": {},
   "outputs": [],
   "source": []
  },
  {
   "cell_type": "markdown",
   "metadata": {},
   "source": [
    "### Analyzing the goings-on\n",
    "\n",
    "Find every injury involving bicycles.\n",
    "\n",
    "* **Tip:** You're searching `Product_1`, not `Narrative`\n",
    "* **Tip:** What about BICYCLE vs bicycle? Do you need to care? How can you deal with it?"
   ]
  },
  {
   "cell_type": "code",
   "execution_count": null,
   "metadata": {},
   "outputs": [],
   "source": []
  },
  {
   "cell_type": "markdown",
   "metadata": {},
   "source": [
    "Graph the age distribution of injuries involving unicycles."
   ]
  },
  {
   "cell_type": "code",
   "execution_count": null,
   "metadata": {},
   "outputs": [],
   "source": []
  },
  {
   "cell_type": "markdown",
   "metadata": {},
   "source": [
    "What was the narrative for the oldest six people who got injured on bicycles?\n",
    "\n",
    "* **Tip:** There's some `pd.set_option` magic that will allow you to read the whole thing without a `...`"
   ]
  },
  {
   "cell_type": "code",
   "execution_count": null,
   "metadata": {},
   "outputs": [],
   "source": []
  },
  {
   "cell_type": "markdown",
   "metadata": {},
   "source": [
    "## What's the age distribution for people injured surfing?"
   ]
  },
  {
   "cell_type": "code",
   "execution_count": null,
   "metadata": {},
   "outputs": [],
   "source": []
  },
  {
   "cell_type": "markdown",
   "metadata": {},
   "source": [
    "## Golfing?"
   ]
  },
  {
   "cell_type": "code",
   "execution_count": null,
   "metadata": {},
   "outputs": [],
   "source": []
  },
  {
   "cell_type": "markdown",
   "metadata": {},
   "source": [
    "Wait, that's real weird. **Find 5 cases of people between the ages of 8 and 10 being injured golfing**."
   ]
  },
  {
   "cell_type": "code",
   "execution_count": null,
   "metadata": {},
   "outputs": [],
   "source": []
  },
  {
   "cell_type": "markdown",
   "metadata": {},
   "source": [
    "Okay, that makes more sense."
   ]
  },
  {
   "cell_type": "markdown",
   "metadata": {},
   "source": [
    "## Plot age histograms for surfing, golfing, and bicycling\n",
    "\n",
    "* **Tip:** Just plot them one after the other in the same cell! These days pandas put them all into the same graphic.\n",
    "\n",
    "If you plot them in that order, import this\n",
    "\n",
    "```\n",
    "import matplotlib.pyplot as plt\n",
    "```\n",
    "\n",
    "And add a legend like this:\n",
    "\n",
    "```\n",
    "plt.legend(['Surfing', 'Cycling', 'Golfing'])\n",
    "```\n",
    "\n",
    "**WHAT'S THAT?** You want more specific bins???? When making a histogram, instead of `bins=50`, you can say \"give me bins from 0 to 100 in chunks of 5\" by doing this: `bins=range(0,100,5)`"
   ]
  },
  {
   "cell_type": "code",
   "execution_count": null,
   "metadata": {},
   "outputs": [],
   "source": [
    "# TIP: If you want to see the distribution of people injured by guns, it migt look like this:\n",
    "# Get every row where the product involves \"gun\"\n",
    "# Get the ages for those rows, and drop any ages that are missing\n",
    "# Do a weird 'weights' thing that you have to do in order to get a percentage in the graph\n",
    "ages = df[df.Product_1.str.contains(\"gun\", case=False)].Age.dropna()\n",
    "weights = np.ones_like(ages)/float(len(ages))\n",
    "ages.hist(alpha=0.5, weights=weights)"
   ]
  },
  {
   "cell_type": "code",
   "execution_count": null,
   "metadata": {},
   "outputs": [],
   "source": []
  },
  {
   "cell_type": "markdown",
   "metadata": {},
   "source": [
    "## I'm irritated by the `Narrative_1` and `Narrative_2` columns being separate\n",
    "\n",
    "Combine them into one column called `Narrative`. The first total narrative should be\n",
    "\n",
    "```\n",
    "21YOM WAS BOXING WITH FRIEND WHILE DRINKING AND GOT PUNCHED IN THE FACE. BAC= 93.6 DX HEAD INJURY AND ALCOHOL INTOXICATION\n",
    "```"
   ]
  },
  {
   "cell_type": "code",
   "execution_count": null,
   "metadata": {},
   "outputs": [],
   "source": []
  },
  {
   "cell_type": "markdown",
   "metadata": {},
   "source": [
    "I don't have anything else for us to do with that one, I just didn't like it."
   ]
  },
  {
   "cell_type": "markdown",
   "metadata": {},
   "source": [
    "## More on products"
   ]
  },
  {
   "cell_type": "markdown",
   "metadata": {},
   "source": [
    "Musical instruments cause injury every now and again. What are the musical instrument categories?\n",
    "\n",
    "* **Tip:** \"MUSICAL INSTRUMENT\" is too specific, make it shorter!\n",
    "* **Tip:** *WE ARE NOT INTERESTED IN WIND CHIMES AT ALL!!!! THEY ARE NOT MUSICAL INSTRUMENTS!!!!*"
   ]
  },
  {
   "cell_type": "code",
   "execution_count": null,
   "metadata": {},
   "outputs": [],
   "source": []
  },
  {
   "cell_type": "markdown",
   "metadata": {},
   "source": [
    "What parts of the body do most musical instrument injuries affect?"
   ]
  },
  {
   "cell_type": "code",
   "execution_count": null,
   "metadata": {},
   "outputs": [],
   "source": []
  },
  {
   "cell_type": "markdown",
   "metadata": {},
   "source": [
    "## What's the average age of a person injured by a corkscrew vs a bottle opener?\n",
    "\n",
    "* **Tip:** Be careful about case sensitivity!"
   ]
  },
  {
   "cell_type": "code",
   "execution_count": null,
   "metadata": {},
   "outputs": [],
   "source": []
  },
  {
   "cell_type": "code",
   "execution_count": null,
   "metadata": {},
   "outputs": [],
   "source": []
  },
  {
   "cell_type": "markdown",
   "metadata": {},
   "source": [
    "### Why should you not write a story about that?\n",
    "\n",
    "You might need to check some more statistics about i."
   ]
  },
  {
   "cell_type": "code",
   "execution_count": null,
   "metadata": {},
   "outputs": [],
   "source": []
  },
  {
   "cell_type": "markdown",
   "metadata": {},
   "source": [
    "## Save the month into a separate column\n",
    "\n",
    "Looking at `Treatment Date`, what's the month? How can you pull it out easily/lazily?\n",
    "\n",
    "* **Tip:** You'll want to convert it to an integer\n",
    "* **Tip:** You might get an error that it doesn't understand the integer `01/01` - how can you make sure it only takes the first `01` and not include the second one?\n",
    "* **Tip:** Do a `.value_counts()` to be sure you're getting the month and not the day of the year!"
   ]
  },
  {
   "cell_type": "code",
   "execution_count": null,
   "metadata": {},
   "outputs": [],
   "source": []
  },
  {
   "cell_type": "markdown",
   "metadata": {},
   "source": [
    "## What month is most popular for injuries involving air conditioners?"
   ]
  },
  {
   "cell_type": "code",
   "execution_count": null,
   "metadata": {},
   "outputs": [],
   "source": []
  },
  {
   "cell_type": "markdown",
   "metadata": {},
   "source": [
    "## How about heaters?\n",
    "\n",
    "I would have said \"space heaters\" but that doesn't give any results!"
   ]
  },
  {
   "cell_type": "code",
   "execution_count": null,
   "metadata": {},
   "outputs": [],
   "source": []
  },
  {
   "cell_type": "markdown",
   "metadata": {},
   "source": [
    "## Find the 5 most dangerous products"
   ]
  },
  {
   "cell_type": "code",
   "execution_count": null,
   "metadata": {},
   "outputs": [],
   "source": []
  },
  {
   "cell_type": "markdown",
   "metadata": {},
   "source": [
    "## Find the 5 most dangerous products for women vs men\n",
    "\n",
    "* **Tip:** This is less of a tip and more of an answer, but after your `value_counts()` you should add `.groupby(level=0).nlargest(10)` and it should work"
   ]
  },
  {
   "cell_type": "code",
   "execution_count": null,
   "metadata": {},
   "outputs": [],
   "source": []
  },
  {
   "cell_type": "markdown",
   "metadata": {},
   "source": [
    "# What is the distribution of peoples' weights?\n",
    "\n",
    "Does that seem right? Why do you think it might look like that? (It might have something to do with the corkscrew vs. bottle openers question!)"
   ]
  },
  {
   "cell_type": "code",
   "execution_count": null,
   "metadata": {},
   "outputs": [],
   "source": []
  }
 ],
 "metadata": {
  "kernelspec": {
   "display_name": "Python 3",
   "language": "python",
   "name": "python3"
  }
 },
 "nbformat": 4,
 "nbformat_minor": 2
}
